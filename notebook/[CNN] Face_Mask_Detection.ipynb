{
 "cells": [
  {
   "cell_type": "markdown",
   "metadata": {
    "id": "_3C0erg56InG"
   },
   "source": [
    "# Install Libraries"
   ]
  },
  {
   "cell_type": "markdown",
   "metadata": {
    "id": "xzERRtzV1BGe"
   },
   "source": [
    "Google Colab doesn't have keras tuner library, so we have to install with this command"
   ]
  },
  {
   "cell_type": "code",
   "execution_count": 1,
   "metadata": {
    "colab": {
     "base_uri": "https://localhost:8080/"
    },
    "id": "im2xGMmLaFIK",
    "outputId": "db67d94d-cefe-4d3d-a676-66d9fa5c3323"
   },
   "outputs": [
    {
     "name": "stdout",
     "output_type": "stream",
     "text": [
      "Collecting keras_tuner\n",
      "  Downloading keras_tuner-1.4.7-py3-none-any.whl (129 kB)\n",
      "\u001b[2K     \u001b[90m━━━━━━━━━━━━━━━━━━━━━━━━━━━━━━━━━━━━━━━━\u001b[0m \u001b[32m129.1/129.1 kB\u001b[0m \u001b[31m2.8 MB/s\u001b[0m eta \u001b[36m0:00:00\u001b[0m\n",
      "\u001b[?25hRequirement already satisfied: keras in /usr/local/lib/python3.10/dist-packages (from keras_tuner) (2.15.0)\n",
      "Requirement already satisfied: packaging in /usr/local/lib/python3.10/dist-packages (from keras_tuner) (24.0)\n",
      "Requirement already satisfied: requests in /usr/local/lib/python3.10/dist-packages (from keras_tuner) (2.31.0)\n",
      "Collecting kt-legacy (from keras_tuner)\n",
      "  Downloading kt_legacy-1.0.5-py3-none-any.whl (9.6 kB)\n",
      "Requirement already satisfied: charset-normalizer<4,>=2 in /usr/local/lib/python3.10/dist-packages (from requests->keras_tuner) (3.3.2)\n",
      "Requirement already satisfied: idna<4,>=2.5 in /usr/local/lib/python3.10/dist-packages (from requests->keras_tuner) (3.7)\n",
      "Requirement already satisfied: urllib3<3,>=1.21.1 in /usr/local/lib/python3.10/dist-packages (from requests->keras_tuner) (2.0.7)\n",
      "Requirement already satisfied: certifi>=2017.4.17 in /usr/local/lib/python3.10/dist-packages (from requests->keras_tuner) (2024.2.2)\n",
      "Installing collected packages: kt-legacy, keras_tuner\n",
      "Successfully installed keras_tuner-1.4.7 kt-legacy-1.0.5\n"
     ]
    }
   ],
   "source": [
    "!pip install keras_tuner"
   ]
  },
  {
   "cell_type": "markdown",
   "metadata": {
    "id": "IQVPEhazzps3"
   },
   "source": [
    "# Import Libraries"
   ]
  },
  {
   "cell_type": "code",
   "execution_count": 2,
   "metadata": {
    "id": "HFumk4cWqwRP"
   },
   "outputs": [],
   "source": [
    "import os\n",
    "import cv2\n",
    "import sys\n",
    "import glob\n",
    "import shutil\n",
    "import tarfile\n",
    "import numpy as np\n",
    "import pandas as pd\n",
    "import seaborn as sns\n",
    "import keras_tuner as kt\n",
    "import matplotlib.pyplot as plt\n",
    "import xml.etree.ElementTree as ET"
   ]
  },
  {
   "cell_type": "code",
   "execution_count": 3,
   "metadata": {
    "id": "cWnddHDiq53h"
   },
   "outputs": [],
   "source": [
    "from PIL import Image\n",
    "from zipfile import ZipFile\n",
    "from urllib.error import HTTPError\n",
    "from urllib.request import urlopen\n",
    "from keras.utils import img_to_array\n",
    "from tempfile import NamedTemporaryFile\n",
    "from urllib.parse import unquote, urlparse\n",
    "from keras.models import Sequential, load_model\n",
    "from keras.optimizers import Adam, RMSprop, SGD\n",
    "from sklearn.model_selection import train_test_split\n",
    "from keras.preprocessing.image import ImageDataGenerator\n",
    "from sklearn.metrics import confusion_matrix, classification_report\n",
    "from keras.callbacks import ModelCheckpoint, EarlyStopping, ReduceLROnPlateau\n",
    "from keras.layers import Conv2D, MaxPooling2D, Flatten, Dense, Dropout, BatchNormalization, Input"
   ]
  },
  {
   "cell_type": "markdown",
   "metadata": {
    "id": "zQCG-0_FztQh"
   },
   "source": [
    "# Using Google Colab"
   ]
  },
  {
   "cell_type": "markdown",
   "metadata": {
    "id": "F91DMDO44Lrc"
   },
   "source": [
    "## Downloading Dataset from Kaggle"
   ]
  },
  {
   "cell_type": "code",
   "execution_count": 4,
   "metadata": {
    "colab": {
     "base_uri": "https://localhost:8080/"
    },
    "id": "xEVz39Tnpb4k",
    "outputId": "9e0fc66a-c391-4d52-e819-0144bef8bb21"
   },
   "outputs": [
    {
     "name": "stdout",
     "output_type": "stream",
     "text": [
      "Downloading face-mask-detection, 416968083 bytes compressed\n",
      "[==================================================] 416968083 bytes downloaded\n",
      "Downloaded and uncompressed: face-mask-detection\n",
      "Data source import complete.\n"
     ]
    }
   ],
   "source": [
    "CHUNK_SIZE = 40960\n",
    "DATA_SOURCE_MAPPING = 'face-mask-detection:https%3A%2F%2Fstorage.googleapis.com%2Fkaggle-data-sets%2F667889%2F1176415%2Fbundle%2Farchive.zip%3FX-Goog-Algorithm%3DGOOG4-RSA-SHA256%26X-Goog-Credential%3Dgcp-kaggle-com%2540kaggle-161607.iam.gserviceaccount.com%252F20240514%252Fauto%252Fstorage%252Fgoog4_request%26X-Goog-Date%3D20240514T150911Z%26X-Goog-Expires%3D259200%26X-Goog-SignedHeaders%3Dhost%26X-Goog-Signature%3D18cbf7063728f4974ccd69335b7443f4c7122d93351e96ab611820b34bb0acc5029aefa5efee1901570cc1f96c30bca3d60519e1ee17ac3b1e559c49ce04e344f2ccbdc14b9841b919d05149fb1b91d32563b784d0f7812b6ae9deb79cff8da0ae4f6783efe21f410d9227fd54f3394db482b271269fe584b140c08568ef30fc20c9b1ac84b62c9a8551460aacdf2ddd2770f0bb4c7ea1fae23e906bf96d4f3a4e322b360ad0e963f820ccfe120c69502119a30aba06b8450a6f10f62f21d209b977f3d261f8da9096ea913236a32b134774ceb5891ae5d8f4061439928e53460893d8f0c572d0b5f05ae979bdd18b7df057c6993480b7e126b335065a02c561'\n",
    "\n",
    "KAGGLE_INPUT_PATH='/kaggle/input'\n",
    "KAGGLE_WORKING_PATH='/kaggle/working'\n",
    "KAGGLE_SYMLINK='kaggle'\n",
    "\n",
    "!umount /kaggle/input/ 2> /dev/null\n",
    "shutil.rmtree('/kaggle/input', ignore_errors=True)\n",
    "os.makedirs(KAGGLE_INPUT_PATH, 0o777, exist_ok=True)\n",
    "os.makedirs(KAGGLE_WORKING_PATH, 0o777, exist_ok=True)\n",
    "\n",
    "try:\n",
    "  os.symlink(KAGGLE_INPUT_PATH, os.path.join(\"..\", 'input'), target_is_directory=True)\n",
    "except FileExistsError:\n",
    "  pass\n",
    "try:\n",
    "  os.symlink(KAGGLE_WORKING_PATH, os.path.join(\"..\", 'working'), target_is_directory=True)\n",
    "except FileExistsError:\n",
    "  pass\n",
    "\n",
    "for data_source_mapping in DATA_SOURCE_MAPPING.split(','):\n",
    "    directory, download_url_encoded = data_source_mapping.split(':')\n",
    "    download_url = unquote(download_url_encoded)\n",
    "    filename = urlparse(download_url).path\n",
    "    destination_path = os.path.join(KAGGLE_INPUT_PATH, directory)\n",
    "    try:\n",
    "        with urlopen(download_url) as fileres, NamedTemporaryFile() as tfile:\n",
    "            total_length = fileres.headers['content-length']\n",
    "            print(f'Downloading {directory}, {total_length} bytes compressed')\n",
    "            dl = 0\n",
    "            data = fileres.read(CHUNK_SIZE)\n",
    "            while len(data) > 0:\n",
    "                dl += len(data)\n",
    "                tfile.write(data)\n",
    "                done = int(50 * dl / int(total_length))\n",
    "                sys.stdout.write(f\"\\r[{'=' * done}{' ' * (50-done)}] {dl} bytes downloaded\")\n",
    "                sys.stdout.flush()\n",
    "                data = fileres.read(CHUNK_SIZE)\n",
    "            if filename.endswith('.zip'):\n",
    "              with ZipFile(tfile) as zfile:\n",
    "                zfile.extractall(destination_path)\n",
    "            else:\n",
    "              with tarfile.open(tfile.name) as tarfile:\n",
    "                tarfile.extractall(destination_path)\n",
    "            print(f'\\nDownloaded and uncompressed: {directory}')\n",
    "    except HTTPError as e:\n",
    "        print(f'Failed to load (likely expired) {download_url} to path {destination_path}')\n",
    "        continue\n",
    "    except OSError as e:\n",
    "        print(f'Failed to load {download_url} to path {destination_path}')\n",
    "        continue\n",
    "\n",
    "print('Data source import complete.')\n"
   ]
  },
  {
   "cell_type": "markdown",
   "metadata": {
    "id": "1JIuSSAt4bz6"
   },
   "source": [
    "# Directory Structure"
   ]
  },
  {
   "cell_type": "markdown",
   "metadata": {
    "id": "Yr99yeV_4lC3"
   },
   "source": [
    "There's a different directory structure between Google Colab and Jupyter Notebook.\n",
    "So, I make two version for dataset paths"
   ]
  },
  {
   "cell_type": "markdown",
   "metadata": {
    "id": "-W1ilssc4gz6"
   },
   "source": [
    "## Google Colab"
   ]
  },
  {
   "cell_type": "code",
   "execution_count": 5,
   "metadata": {
    "id": "00DlQh2X3lAO"
   },
   "outputs": [],
   "source": [
    "input_data_path = '/kaggle/input/face-mask-detection/images'\n",
    "annotations_path = \"/kaggle/input/face-mask-detection/annotations\"\n",
    "images = [*os.listdir(\"/kaggle/input/face-mask-detection/images\")]\n",
    "output_data_path =  '.'"
   ]
  },
  {
   "cell_type": "markdown",
   "metadata": {
    "id": "laLbLxTOz3aw"
   },
   "source": [
    "## Jupyter Notebook"
   ]
  },
  {
   "cell_type": "code",
   "execution_count": null,
   "metadata": {
    "id": "U0nHwY_Rqa0K"
   },
   "outputs": [],
   "source": [
    "input_data_path = 'kaggle/input/face-mask-detection/images'\n",
    "annotations_path = \"kaggle/input/face-mask-detection/annotations\"\n",
    "images = [*os.listdir(\"kaggle/input/face-mask-detection/images\")]\n",
    "output_data_path =  '/'"
   ]
  },
  {
   "cell_type": "markdown",
   "metadata": {
    "id": "DCVHxznt5_pu"
   },
   "source": [
    "# EDA"
   ]
  },
  {
   "cell_type": "markdown",
   "metadata": {
    "id": "4zgnyrzAz7DI"
   },
   "source": [
    "## Convert annotations data into Pandas Data Frame"
   ]
  },
  {
   "cell_type": "markdown",
   "metadata": {
    "id": "HF6pX8LK6sf8"
   },
   "source": [
    "To make annotation data more readable, we must convert from XML format to Pandas Data Frame"
   ]
  },
  {
   "cell_type": "code",
   "execution_count": 6,
   "metadata": {
    "id": "iZ139FsxwkMe"
   },
   "outputs": [],
   "source": [
    "def parse_annotation_object(annotation_object):\n",
    "  params = {}\n",
    "  for param in list(annotation_object):\n",
    "    if param.tag == 'name':\n",
    "      params['name'] = param.text\n",
    "    if param.tag == 'bndbox':\n",
    "      for coord in list(param):\n",
    "        if coord.tag == 'xmin':\n",
    "          params['xmin'] = int(coord.text)\n",
    "        if coord.tag == 'ymin':\n",
    "          params['ymin'] = int(coord.text)\n",
    "        if coord.tag == 'xmax':\n",
    "          params['xmax'] = int(coord.text)\n",
    "        if coord.tag == 'ymax':\n",
    "          params['ymax'] = int(coord.text)\n",
    "\n",
    "  return params"
   ]
  },
  {
   "cell_type": "code",
   "execution_count": 7,
   "metadata": {
    "id": "iL0MV-fDySb8"
   },
   "outputs": [],
   "source": [
    "def merge(dict1, dict2):\n",
    "  res = {**dict1, **dict2}\n",
    "\n",
    "  return res"
   ]
  },
  {
   "cell_type": "code",
   "execution_count": 8,
   "metadata": {
    "id": "1JbJsnRPrtn5"
   },
   "outputs": [],
   "source": [
    "def parse_annotation(path):\n",
    "  tree = ET.parse(path)\n",
    "  root = tree.getroot()\n",
    "  constants = {}\n",
    "  objects = [child for child in root if child.tag == 'object']\n",
    "  for element in tree.iter():\n",
    "    if element.tag == 'filename':\n",
    "      constants['file'] = element.text[:-4]\n",
    "    if element.tag == 'size':\n",
    "      for dim in list(element):\n",
    "        if dim.tag == 'width':\n",
    "          constants['width'] = int(dim.text)\n",
    "        if dim.tag == 'height':\n",
    "          constants['height'] = int(dim.text)\n",
    "        if dim.tag == 'depth':\n",
    "          constants['depth'] = int(dim.text)\n",
    "\n",
    "  object_params = [parse_annotation_object(obj) for obj in objects]\n",
    "  full_result = [merge(constants, ob) for ob in object_params]\n",
    "\n",
    "  return full_result"
   ]
  },
  {
   "cell_type": "code",
   "execution_count": 9,
   "metadata": {
    "colab": {
     "base_uri": "https://localhost:8080/",
     "height": 206
    },
    "id": "L-uGIEznsYPK",
    "outputId": "a01b0348-856b-403a-e05e-1d998799bab8"
   },
   "outputs": [
    {
     "data": {
      "application/vnd.google.colaboratory.intrinsic+json": {
       "summary": "{\n  \"name\": \"df\",\n  \"rows\": 4072,\n  \"fields\": [\n    {\n      \"column\": \"file\",\n      \"properties\": {\n        \"dtype\": \"category\",\n        \"num_unique_values\": 853,\n        \"samples\": [\n          \"maksssksksss292\",\n          \"maksssksksss226\",\n          \"maksssksksss12\"\n        ],\n        \"semantic_type\": \"\",\n        \"description\": \"\"\n      }\n    },\n    {\n      \"column\": \"width\",\n      \"properties\": {\n        \"dtype\": \"number\",\n        \"std\": 35,\n        \"min\": 193,\n        \"max\": 600,\n        \"num_unique_values\": 39,\n        \"samples\": [\n          259,\n          316,\n          225\n        ],\n        \"semantic_type\": \"\",\n        \"description\": \"\"\n      }\n    },\n    {\n      \"column\": \"height\",\n      \"properties\": {\n        \"dtype\": \"number\",\n        \"std\": 52,\n        \"min\": 156,\n        \"max\": 600,\n        \"num_unique_values\": 104,\n        \"samples\": [\n          227,\n          352,\n          240\n        ],\n        \"semantic_type\": \"\",\n        \"description\": \"\"\n      }\n    },\n    {\n      \"column\": \"depth\",\n      \"properties\": {\n        \"dtype\": \"number\",\n        \"std\": 0,\n        \"min\": 3,\n        \"max\": 3,\n        \"num_unique_values\": 1,\n        \"samples\": [\n          3\n        ],\n        \"semantic_type\": \"\",\n        \"description\": \"\"\n      }\n    },\n    {\n      \"column\": \"name\",\n      \"properties\": {\n        \"dtype\": \"category\",\n        \"num_unique_values\": 3,\n        \"samples\": [\n          \"with_mask\"\n        ],\n        \"semantic_type\": \"\",\n        \"description\": \"\"\n      }\n    },\n    {\n      \"column\": \"xmin\",\n      \"properties\": {\n        \"dtype\": \"number\",\n        \"std\": 104,\n        \"min\": 1,\n        \"max\": 569,\n        \"num_unique_values\": 406,\n        \"samples\": [\n          136\n        ],\n        \"semantic_type\": \"\",\n        \"description\": \"\"\n      }\n    },\n    {\n      \"column\": \"ymin\",\n      \"properties\": {\n        \"dtype\": \"number\",\n        \"std\": 52,\n        \"min\": 1,\n        \"max\": 330,\n        \"num_unique_values\": 270,\n        \"samples\": [\n          33\n        ],\n        \"semantic_type\": \"\",\n        \"description\": \"\"\n      }\n    },\n    {\n      \"column\": \"xmax\",\n      \"properties\": {\n        \"dtype\": \"number\",\n        \"std\": 102,\n        \"min\": 8,\n        \"max\": 592,\n        \"num_unique_values\": 411,\n        \"samples\": [\n          87\n        ],\n        \"semantic_type\": \"\",\n        \"description\": \"\"\n      }\n    },\n    {\n      \"column\": \"ymax\",\n      \"properties\": {\n        \"dtype\": \"number\",\n        \"std\": 70,\n        \"min\": 6,\n        \"max\": 495,\n        \"num_unique_values\": 356,\n        \"samples\": [\n          37\n        ],\n        \"semantic_type\": \"\",\n        \"description\": \"\"\n      }\n    }\n  ]\n}",
       "type": "dataframe",
       "variable_name": "df"
      },
      "text/html": [
       "\n",
       "  <div id=\"df-04dfd0dc-095c-42d4-acf3-c0f991216944\" class=\"colab-df-container\">\n",
       "    <div>\n",
       "<style scoped>\n",
       "    .dataframe tbody tr th:only-of-type {\n",
       "        vertical-align: middle;\n",
       "    }\n",
       "\n",
       "    .dataframe tbody tr th {\n",
       "        vertical-align: top;\n",
       "    }\n",
       "\n",
       "    .dataframe thead th {\n",
       "        text-align: right;\n",
       "    }\n",
       "</style>\n",
       "<table border=\"1\" class=\"dataframe\">\n",
       "  <thead>\n",
       "    <tr style=\"text-align: right;\">\n",
       "      <th></th>\n",
       "      <th>file</th>\n",
       "      <th>width</th>\n",
       "      <th>height</th>\n",
       "      <th>depth</th>\n",
       "      <th>name</th>\n",
       "      <th>xmin</th>\n",
       "      <th>ymin</th>\n",
       "      <th>xmax</th>\n",
       "      <th>ymax</th>\n",
       "    </tr>\n",
       "  </thead>\n",
       "  <tbody>\n",
       "    <tr>\n",
       "      <th>0</th>\n",
       "      <td>maksssksksss176</td>\n",
       "      <td>400</td>\n",
       "      <td>225</td>\n",
       "      <td>3</td>\n",
       "      <td>with_mask</td>\n",
       "      <td>132</td>\n",
       "      <td>55</td>\n",
       "      <td>157</td>\n",
       "      <td>97</td>\n",
       "    </tr>\n",
       "    <tr>\n",
       "      <th>1</th>\n",
       "      <td>maksssksksss176</td>\n",
       "      <td>400</td>\n",
       "      <td>225</td>\n",
       "      <td>3</td>\n",
       "      <td>with_mask</td>\n",
       "      <td>15</td>\n",
       "      <td>68</td>\n",
       "      <td>47</td>\n",
       "      <td>104</td>\n",
       "    </tr>\n",
       "    <tr>\n",
       "      <th>2</th>\n",
       "      <td>maksssksksss176</td>\n",
       "      <td>400</td>\n",
       "      <td>225</td>\n",
       "      <td>3</td>\n",
       "      <td>with_mask</td>\n",
       "      <td>55</td>\n",
       "      <td>47</td>\n",
       "      <td>81</td>\n",
       "      <td>80</td>\n",
       "    </tr>\n",
       "    <tr>\n",
       "      <th>3</th>\n",
       "      <td>maksssksksss176</td>\n",
       "      <td>400</td>\n",
       "      <td>225</td>\n",
       "      <td>3</td>\n",
       "      <td>with_mask</td>\n",
       "      <td>144</td>\n",
       "      <td>95</td>\n",
       "      <td>169</td>\n",
       "      <td>128</td>\n",
       "    </tr>\n",
       "    <tr>\n",
       "      <th>4</th>\n",
       "      <td>maksssksksss176</td>\n",
       "      <td>400</td>\n",
       "      <td>225</td>\n",
       "      <td>3</td>\n",
       "      <td>with_mask</td>\n",
       "      <td>166</td>\n",
       "      <td>66</td>\n",
       "      <td>189</td>\n",
       "      <td>95</td>\n",
       "    </tr>\n",
       "  </tbody>\n",
       "</table>\n",
       "</div>\n",
       "    <div class=\"colab-df-buttons\">\n",
       "\n",
       "  <div class=\"colab-df-container\">\n",
       "    <button class=\"colab-df-convert\" onclick=\"convertToInteractive('df-04dfd0dc-095c-42d4-acf3-c0f991216944')\"\n",
       "            title=\"Convert this dataframe to an interactive table.\"\n",
       "            style=\"display:none;\">\n",
       "\n",
       "  <svg xmlns=\"http://www.w3.org/2000/svg\" height=\"24px\" viewBox=\"0 -960 960 960\">\n",
       "    <path d=\"M120-120v-720h720v720H120Zm60-500h600v-160H180v160Zm220 220h160v-160H400v160Zm0 220h160v-160H400v160ZM180-400h160v-160H180v160Zm440 0h160v-160H620v160ZM180-180h160v-160H180v160Zm440 0h160v-160H620v160Z\"/>\n",
       "  </svg>\n",
       "    </button>\n",
       "\n",
       "  <style>\n",
       "    .colab-df-container {\n",
       "      display:flex;\n",
       "      gap: 12px;\n",
       "    }\n",
       "\n",
       "    .colab-df-convert {\n",
       "      background-color: #E8F0FE;\n",
       "      border: none;\n",
       "      border-radius: 50%;\n",
       "      cursor: pointer;\n",
       "      display: none;\n",
       "      fill: #1967D2;\n",
       "      height: 32px;\n",
       "      padding: 0 0 0 0;\n",
       "      width: 32px;\n",
       "    }\n",
       "\n",
       "    .colab-df-convert:hover {\n",
       "      background-color: #E2EBFA;\n",
       "      box-shadow: 0px 1px 2px rgba(60, 64, 67, 0.3), 0px 1px 3px 1px rgba(60, 64, 67, 0.15);\n",
       "      fill: #174EA6;\n",
       "    }\n",
       "\n",
       "    .colab-df-buttons div {\n",
       "      margin-bottom: 4px;\n",
       "    }\n",
       "\n",
       "    [theme=dark] .colab-df-convert {\n",
       "      background-color: #3B4455;\n",
       "      fill: #D2E3FC;\n",
       "    }\n",
       "\n",
       "    [theme=dark] .colab-df-convert:hover {\n",
       "      background-color: #434B5C;\n",
       "      box-shadow: 0px 1px 3px 1px rgba(0, 0, 0, 0.15);\n",
       "      filter: drop-shadow(0px 1px 2px rgba(0, 0, 0, 0.3));\n",
       "      fill: #FFFFFF;\n",
       "    }\n",
       "  </style>\n",
       "\n",
       "    <script>\n",
       "      const buttonEl =\n",
       "        document.querySelector('#df-04dfd0dc-095c-42d4-acf3-c0f991216944 button.colab-df-convert');\n",
       "      buttonEl.style.display =\n",
       "        google.colab.kernel.accessAllowed ? 'block' : 'none';\n",
       "\n",
       "      async function convertToInteractive(key) {\n",
       "        const element = document.querySelector('#df-04dfd0dc-095c-42d4-acf3-c0f991216944');\n",
       "        const dataTable =\n",
       "          await google.colab.kernel.invokeFunction('convertToInteractive',\n",
       "                                                    [key], {});\n",
       "        if (!dataTable) return;\n",
       "\n",
       "        const docLinkHtml = 'Like what you see? Visit the ' +\n",
       "          '<a target=\"_blank\" href=https://colab.research.google.com/notebooks/data_table.ipynb>data table notebook</a>'\n",
       "          + ' to learn more about interactive tables.';\n",
       "        element.innerHTML = '';\n",
       "        dataTable['output_type'] = 'display_data';\n",
       "        await google.colab.output.renderOutput(dataTable, element);\n",
       "        const docLink = document.createElement('div');\n",
       "        docLink.innerHTML = docLinkHtml;\n",
       "        element.appendChild(docLink);\n",
       "      }\n",
       "    </script>\n",
       "  </div>\n",
       "\n",
       "\n",
       "<div id=\"df-afc90888-401c-4584-b67c-83167ec63698\">\n",
       "  <button class=\"colab-df-quickchart\" onclick=\"quickchart('df-afc90888-401c-4584-b67c-83167ec63698')\"\n",
       "            title=\"Suggest charts\"\n",
       "            style=\"display:none;\">\n",
       "\n",
       "<svg xmlns=\"http://www.w3.org/2000/svg\" height=\"24px\"viewBox=\"0 0 24 24\"\n",
       "     width=\"24px\">\n",
       "    <g>\n",
       "        <path d=\"M19 3H5c-1.1 0-2 .9-2 2v14c0 1.1.9 2 2 2h14c1.1 0 2-.9 2-2V5c0-1.1-.9-2-2-2zM9 17H7v-7h2v7zm4 0h-2V7h2v10zm4 0h-2v-4h2v4z\"/>\n",
       "    </g>\n",
       "</svg>\n",
       "  </button>\n",
       "\n",
       "<style>\n",
       "  .colab-df-quickchart {\n",
       "      --bg-color: #E8F0FE;\n",
       "      --fill-color: #1967D2;\n",
       "      --hover-bg-color: #E2EBFA;\n",
       "      --hover-fill-color: #174EA6;\n",
       "      --disabled-fill-color: #AAA;\n",
       "      --disabled-bg-color: #DDD;\n",
       "  }\n",
       "\n",
       "  [theme=dark] .colab-df-quickchart {\n",
       "      --bg-color: #3B4455;\n",
       "      --fill-color: #D2E3FC;\n",
       "      --hover-bg-color: #434B5C;\n",
       "      --hover-fill-color: #FFFFFF;\n",
       "      --disabled-bg-color: #3B4455;\n",
       "      --disabled-fill-color: #666;\n",
       "  }\n",
       "\n",
       "  .colab-df-quickchart {\n",
       "    background-color: var(--bg-color);\n",
       "    border: none;\n",
       "    border-radius: 50%;\n",
       "    cursor: pointer;\n",
       "    display: none;\n",
       "    fill: var(--fill-color);\n",
       "    height: 32px;\n",
       "    padding: 0;\n",
       "    width: 32px;\n",
       "  }\n",
       "\n",
       "  .colab-df-quickchart:hover {\n",
       "    background-color: var(--hover-bg-color);\n",
       "    box-shadow: 0 1px 2px rgba(60, 64, 67, 0.3), 0 1px 3px 1px rgba(60, 64, 67, 0.15);\n",
       "    fill: var(--button-hover-fill-color);\n",
       "  }\n",
       "\n",
       "  .colab-df-quickchart-complete:disabled,\n",
       "  .colab-df-quickchart-complete:disabled:hover {\n",
       "    background-color: var(--disabled-bg-color);\n",
       "    fill: var(--disabled-fill-color);\n",
       "    box-shadow: none;\n",
       "  }\n",
       "\n",
       "  .colab-df-spinner {\n",
       "    border: 2px solid var(--fill-color);\n",
       "    border-color: transparent;\n",
       "    border-bottom-color: var(--fill-color);\n",
       "    animation:\n",
       "      spin 1s steps(1) infinite;\n",
       "  }\n",
       "\n",
       "  @keyframes spin {\n",
       "    0% {\n",
       "      border-color: transparent;\n",
       "      border-bottom-color: var(--fill-color);\n",
       "      border-left-color: var(--fill-color);\n",
       "    }\n",
       "    20% {\n",
       "      border-color: transparent;\n",
       "      border-left-color: var(--fill-color);\n",
       "      border-top-color: var(--fill-color);\n",
       "    }\n",
       "    30% {\n",
       "      border-color: transparent;\n",
       "      border-left-color: var(--fill-color);\n",
       "      border-top-color: var(--fill-color);\n",
       "      border-right-color: var(--fill-color);\n",
       "    }\n",
       "    40% {\n",
       "      border-color: transparent;\n",
       "      border-right-color: var(--fill-color);\n",
       "      border-top-color: var(--fill-color);\n",
       "    }\n",
       "    60% {\n",
       "      border-color: transparent;\n",
       "      border-right-color: var(--fill-color);\n",
       "    }\n",
       "    80% {\n",
       "      border-color: transparent;\n",
       "      border-right-color: var(--fill-color);\n",
       "      border-bottom-color: var(--fill-color);\n",
       "    }\n",
       "    90% {\n",
       "      border-color: transparent;\n",
       "      border-bottom-color: var(--fill-color);\n",
       "    }\n",
       "  }\n",
       "</style>\n",
       "\n",
       "  <script>\n",
       "    async function quickchart(key) {\n",
       "      const quickchartButtonEl =\n",
       "        document.querySelector('#' + key + ' button');\n",
       "      quickchartButtonEl.disabled = true;  // To prevent multiple clicks.\n",
       "      quickchartButtonEl.classList.add('colab-df-spinner');\n",
       "      try {\n",
       "        const charts = await google.colab.kernel.invokeFunction(\n",
       "            'suggestCharts', [key], {});\n",
       "      } catch (error) {\n",
       "        console.error('Error during call to suggestCharts:', error);\n",
       "      }\n",
       "      quickchartButtonEl.classList.remove('colab-df-spinner');\n",
       "      quickchartButtonEl.classList.add('colab-df-quickchart-complete');\n",
       "    }\n",
       "    (() => {\n",
       "      let quickchartButtonEl =\n",
       "        document.querySelector('#df-afc90888-401c-4584-b67c-83167ec63698 button');\n",
       "      quickchartButtonEl.style.display =\n",
       "        google.colab.kernel.accessAllowed ? 'block' : 'none';\n",
       "    })();\n",
       "  </script>\n",
       "</div>\n",
       "    </div>\n",
       "  </div>\n"
      ],
      "text/plain": [
       "              file  width  height  depth       name  xmin  ymin  xmax  ymax\n",
       "0  maksssksksss176    400     225      3  with_mask   132    55   157    97\n",
       "1  maksssksksss176    400     225      3  with_mask    15    68    47   104\n",
       "2  maksssksksss176    400     225      3  with_mask    55    47    81    80\n",
       "3  maksssksksss176    400     225      3  with_mask   144    95   169   128\n",
       "4  maksssksksss176    400     225      3  with_mask   166    66   189    95"
      ]
     },
     "execution_count": 9,
     "metadata": {},
     "output_type": "execute_result"
    }
   ],
   "source": [
    "dataset = [parse_annotation(anno) for anno in glob.glob(annotations_path + '/*.xml')]\n",
    "full_dataset = sum(dataset, [])\n",
    "df = pd.DataFrame(full_dataset)\n",
    "\n",
    "df.head()"
   ]
  },
  {
   "cell_type": "markdown",
   "metadata": {
    "id": "b_CnPIOR0_ue"
   },
   "source": [
    "Remove image with filename 'maksssksksss0' for testing"
   ]
  },
  {
   "cell_type": "code",
   "execution_count": 10,
   "metadata": {
    "colab": {
     "base_uri": "https://localhost:8080/",
     "height": 424
    },
    "id": "qMQLFOVzy4KB",
    "outputId": "642af81e-0317-496f-bc07-3c4610c1ddcb"
   },
   "outputs": [
    {
     "data": {
      "application/vnd.google.colaboratory.intrinsic+json": {
       "summary": "{\n  \"name\": \"df\",\n  \"rows\": 4069,\n  \"fields\": [\n    {\n      \"column\": \"file\",\n      \"properties\": {\n        \"dtype\": \"category\",\n        \"num_unique_values\": 852,\n        \"samples\": [\n          \"maksssksksss292\",\n          \"maksssksksss226\",\n          \"maksssksksss12\"\n        ],\n        \"semantic_type\": \"\",\n        \"description\": \"\"\n      }\n    },\n    {\n      \"column\": \"width\",\n      \"properties\": {\n        \"dtype\": \"number\",\n        \"std\": 35,\n        \"min\": 193,\n        \"max\": 600,\n        \"num_unique_values\": 39,\n        \"samples\": [\n          259,\n          316,\n          225\n        ],\n        \"semantic_type\": \"\",\n        \"description\": \"\"\n      }\n    },\n    {\n      \"column\": \"height\",\n      \"properties\": {\n        \"dtype\": \"number\",\n        \"std\": 52,\n        \"min\": 156,\n        \"max\": 600,\n        \"num_unique_values\": 103,\n        \"samples\": [\n          227,\n          271,\n          294\n        ],\n        \"semantic_type\": \"\",\n        \"description\": \"\"\n      }\n    },\n    {\n      \"column\": \"depth\",\n      \"properties\": {\n        \"dtype\": \"number\",\n        \"std\": 0,\n        \"min\": 3,\n        \"max\": 3,\n        \"num_unique_values\": 1,\n        \"samples\": [\n          3\n        ],\n        \"semantic_type\": \"\",\n        \"description\": \"\"\n      }\n    },\n    {\n      \"column\": \"name\",\n      \"properties\": {\n        \"dtype\": \"category\",\n        \"num_unique_values\": 3,\n        \"samples\": [\n          \"with_mask\"\n        ],\n        \"semantic_type\": \"\",\n        \"description\": \"\"\n      }\n    },\n    {\n      \"column\": \"xmin\",\n      \"properties\": {\n        \"dtype\": \"number\",\n        \"std\": 104,\n        \"min\": 1,\n        \"max\": 569,\n        \"num_unique_values\": 406,\n        \"samples\": [\n          136\n        ],\n        \"semantic_type\": \"\",\n        \"description\": \"\"\n      }\n    },\n    {\n      \"column\": \"ymin\",\n      \"properties\": {\n        \"dtype\": \"number\",\n        \"std\": 52,\n        \"min\": 1,\n        \"max\": 330,\n        \"num_unique_values\": 270,\n        \"samples\": [\n          33\n        ],\n        \"semantic_type\": \"\",\n        \"description\": \"\"\n      }\n    },\n    {\n      \"column\": \"xmax\",\n      \"properties\": {\n        \"dtype\": \"number\",\n        \"std\": 102,\n        \"min\": 8,\n        \"max\": 592,\n        \"num_unique_values\": 411,\n        \"samples\": [\n          87\n        ],\n        \"semantic_type\": \"\",\n        \"description\": \"\"\n      }\n    },\n    {\n      \"column\": \"ymax\",\n      \"properties\": {\n        \"dtype\": \"number\",\n        \"std\": 70,\n        \"min\": 6,\n        \"max\": 495,\n        \"num_unique_values\": 356,\n        \"samples\": [\n          37\n        ],\n        \"semantic_type\": \"\",\n        \"description\": \"\"\n      }\n    }\n  ]\n}",
       "type": "dataframe",
       "variable_name": "df"
      },
      "text/html": [
       "\n",
       "  <div id=\"df-ebc0fd1c-c288-4333-8f32-32dff5338bb9\" class=\"colab-df-container\">\n",
       "    <div>\n",
       "<style scoped>\n",
       "    .dataframe tbody tr th:only-of-type {\n",
       "        vertical-align: middle;\n",
       "    }\n",
       "\n",
       "    .dataframe tbody tr th {\n",
       "        vertical-align: top;\n",
       "    }\n",
       "\n",
       "    .dataframe thead th {\n",
       "        text-align: right;\n",
       "    }\n",
       "</style>\n",
       "<table border=\"1\" class=\"dataframe\">\n",
       "  <thead>\n",
       "    <tr style=\"text-align: right;\">\n",
       "      <th></th>\n",
       "      <th>file</th>\n",
       "      <th>width</th>\n",
       "      <th>height</th>\n",
       "      <th>depth</th>\n",
       "      <th>name</th>\n",
       "      <th>xmin</th>\n",
       "      <th>ymin</th>\n",
       "      <th>xmax</th>\n",
       "      <th>ymax</th>\n",
       "    </tr>\n",
       "  </thead>\n",
       "  <tbody>\n",
       "    <tr>\n",
       "      <th>0</th>\n",
       "      <td>maksssksksss176</td>\n",
       "      <td>400</td>\n",
       "      <td>225</td>\n",
       "      <td>3</td>\n",
       "      <td>with_mask</td>\n",
       "      <td>132</td>\n",
       "      <td>55</td>\n",
       "      <td>157</td>\n",
       "      <td>97</td>\n",
       "    </tr>\n",
       "    <tr>\n",
       "      <th>1</th>\n",
       "      <td>maksssksksss176</td>\n",
       "      <td>400</td>\n",
       "      <td>225</td>\n",
       "      <td>3</td>\n",
       "      <td>with_mask</td>\n",
       "      <td>15</td>\n",
       "      <td>68</td>\n",
       "      <td>47</td>\n",
       "      <td>104</td>\n",
       "    </tr>\n",
       "    <tr>\n",
       "      <th>2</th>\n",
       "      <td>maksssksksss176</td>\n",
       "      <td>400</td>\n",
       "      <td>225</td>\n",
       "      <td>3</td>\n",
       "      <td>with_mask</td>\n",
       "      <td>55</td>\n",
       "      <td>47</td>\n",
       "      <td>81</td>\n",
       "      <td>80</td>\n",
       "    </tr>\n",
       "    <tr>\n",
       "      <th>3</th>\n",
       "      <td>maksssksksss176</td>\n",
       "      <td>400</td>\n",
       "      <td>225</td>\n",
       "      <td>3</td>\n",
       "      <td>with_mask</td>\n",
       "      <td>144</td>\n",
       "      <td>95</td>\n",
       "      <td>169</td>\n",
       "      <td>128</td>\n",
       "    </tr>\n",
       "    <tr>\n",
       "      <th>4</th>\n",
       "      <td>maksssksksss176</td>\n",
       "      <td>400</td>\n",
       "      <td>225</td>\n",
       "      <td>3</td>\n",
       "      <td>with_mask</td>\n",
       "      <td>166</td>\n",
       "      <td>66</td>\n",
       "      <td>189</td>\n",
       "      <td>95</td>\n",
       "    </tr>\n",
       "    <tr>\n",
       "      <th>...</th>\n",
       "      <td>...</td>\n",
       "      <td>...</td>\n",
       "      <td>...</td>\n",
       "      <td>...</td>\n",
       "      <td>...</td>\n",
       "      <td>...</td>\n",
       "      <td>...</td>\n",
       "      <td>...</td>\n",
       "      <td>...</td>\n",
       "    </tr>\n",
       "    <tr>\n",
       "      <th>4067</th>\n",
       "      <td>maksssksksss783</td>\n",
       "      <td>400</td>\n",
       "      <td>267</td>\n",
       "      <td>3</td>\n",
       "      <td>with_mask</td>\n",
       "      <td>136</td>\n",
       "      <td>59</td>\n",
       "      <td>153</td>\n",
       "      <td>76</td>\n",
       "    </tr>\n",
       "    <tr>\n",
       "      <th>4068</th>\n",
       "      <td>maksssksksss783</td>\n",
       "      <td>400</td>\n",
       "      <td>267</td>\n",
       "      <td>3</td>\n",
       "      <td>with_mask</td>\n",
       "      <td>194</td>\n",
       "      <td>132</td>\n",
       "      <td>210</td>\n",
       "      <td>148</td>\n",
       "    </tr>\n",
       "    <tr>\n",
       "      <th>4069</th>\n",
       "      <td>maksssksksss783</td>\n",
       "      <td>400</td>\n",
       "      <td>267</td>\n",
       "      <td>3</td>\n",
       "      <td>with_mask</td>\n",
       "      <td>243</td>\n",
       "      <td>136</td>\n",
       "      <td>258</td>\n",
       "      <td>150</td>\n",
       "    </tr>\n",
       "    <tr>\n",
       "      <th>4070</th>\n",
       "      <td>maksssksksss783</td>\n",
       "      <td>400</td>\n",
       "      <td>267</td>\n",
       "      <td>3</td>\n",
       "      <td>with_mask</td>\n",
       "      <td>241</td>\n",
       "      <td>32</td>\n",
       "      <td>261</td>\n",
       "      <td>54</td>\n",
       "    </tr>\n",
       "    <tr>\n",
       "      <th>4071</th>\n",
       "      <td>maksssksksss783</td>\n",
       "      <td>400</td>\n",
       "      <td>267</td>\n",
       "      <td>3</td>\n",
       "      <td>with_mask</td>\n",
       "      <td>330</td>\n",
       "      <td>23</td>\n",
       "      <td>353</td>\n",
       "      <td>52</td>\n",
       "    </tr>\n",
       "  </tbody>\n",
       "</table>\n",
       "<p>4069 rows × 9 columns</p>\n",
       "</div>\n",
       "    <div class=\"colab-df-buttons\">\n",
       "\n",
       "  <div class=\"colab-df-container\">\n",
       "    <button class=\"colab-df-convert\" onclick=\"convertToInteractive('df-ebc0fd1c-c288-4333-8f32-32dff5338bb9')\"\n",
       "            title=\"Convert this dataframe to an interactive table.\"\n",
       "            style=\"display:none;\">\n",
       "\n",
       "  <svg xmlns=\"http://www.w3.org/2000/svg\" height=\"24px\" viewBox=\"0 -960 960 960\">\n",
       "    <path d=\"M120-120v-720h720v720H120Zm60-500h600v-160H180v160Zm220 220h160v-160H400v160Zm0 220h160v-160H400v160ZM180-400h160v-160H180v160Zm440 0h160v-160H620v160ZM180-180h160v-160H180v160Zm440 0h160v-160H620v160Z\"/>\n",
       "  </svg>\n",
       "    </button>\n",
       "\n",
       "  <style>\n",
       "    .colab-df-container {\n",
       "      display:flex;\n",
       "      gap: 12px;\n",
       "    }\n",
       "\n",
       "    .colab-df-convert {\n",
       "      background-color: #E8F0FE;\n",
       "      border: none;\n",
       "      border-radius: 50%;\n",
       "      cursor: pointer;\n",
       "      display: none;\n",
       "      fill: #1967D2;\n",
       "      height: 32px;\n",
       "      padding: 0 0 0 0;\n",
       "      width: 32px;\n",
       "    }\n",
       "\n",
       "    .colab-df-convert:hover {\n",
       "      background-color: #E2EBFA;\n",
       "      box-shadow: 0px 1px 2px rgba(60, 64, 67, 0.3), 0px 1px 3px 1px rgba(60, 64, 67, 0.15);\n",
       "      fill: #174EA6;\n",
       "    }\n",
       "\n",
       "    .colab-df-buttons div {\n",
       "      margin-bottom: 4px;\n",
       "    }\n",
       "\n",
       "    [theme=dark] .colab-df-convert {\n",
       "      background-color: #3B4455;\n",
       "      fill: #D2E3FC;\n",
       "    }\n",
       "\n",
       "    [theme=dark] .colab-df-convert:hover {\n",
       "      background-color: #434B5C;\n",
       "      box-shadow: 0px 1px 3px 1px rgba(0, 0, 0, 0.15);\n",
       "      filter: drop-shadow(0px 1px 2px rgba(0, 0, 0, 0.3));\n",
       "      fill: #FFFFFF;\n",
       "    }\n",
       "  </style>\n",
       "\n",
       "    <script>\n",
       "      const buttonEl =\n",
       "        document.querySelector('#df-ebc0fd1c-c288-4333-8f32-32dff5338bb9 button.colab-df-convert');\n",
       "      buttonEl.style.display =\n",
       "        google.colab.kernel.accessAllowed ? 'block' : 'none';\n",
       "\n",
       "      async function convertToInteractive(key) {\n",
       "        const element = document.querySelector('#df-ebc0fd1c-c288-4333-8f32-32dff5338bb9');\n",
       "        const dataTable =\n",
       "          await google.colab.kernel.invokeFunction('convertToInteractive',\n",
       "                                                    [key], {});\n",
       "        if (!dataTable) return;\n",
       "\n",
       "        const docLinkHtml = 'Like what you see? Visit the ' +\n",
       "          '<a target=\"_blank\" href=https://colab.research.google.com/notebooks/data_table.ipynb>data table notebook</a>'\n",
       "          + ' to learn more about interactive tables.';\n",
       "        element.innerHTML = '';\n",
       "        dataTable['output_type'] = 'display_data';\n",
       "        await google.colab.output.renderOutput(dataTable, element);\n",
       "        const docLink = document.createElement('div');\n",
       "        docLink.innerHTML = docLinkHtml;\n",
       "        element.appendChild(docLink);\n",
       "      }\n",
       "    </script>\n",
       "  </div>\n",
       "\n",
       "\n",
       "<div id=\"df-15e75bc9-b76f-4b2f-a69a-e6fa8b03bdf9\">\n",
       "  <button class=\"colab-df-quickchart\" onclick=\"quickchart('df-15e75bc9-b76f-4b2f-a69a-e6fa8b03bdf9')\"\n",
       "            title=\"Suggest charts\"\n",
       "            style=\"display:none;\">\n",
       "\n",
       "<svg xmlns=\"http://www.w3.org/2000/svg\" height=\"24px\"viewBox=\"0 0 24 24\"\n",
       "     width=\"24px\">\n",
       "    <g>\n",
       "        <path d=\"M19 3H5c-1.1 0-2 .9-2 2v14c0 1.1.9 2 2 2h14c1.1 0 2-.9 2-2V5c0-1.1-.9-2-2-2zM9 17H7v-7h2v7zm4 0h-2V7h2v10zm4 0h-2v-4h2v4z\"/>\n",
       "    </g>\n",
       "</svg>\n",
       "  </button>\n",
       "\n",
       "<style>\n",
       "  .colab-df-quickchart {\n",
       "      --bg-color: #E8F0FE;\n",
       "      --fill-color: #1967D2;\n",
       "      --hover-bg-color: #E2EBFA;\n",
       "      --hover-fill-color: #174EA6;\n",
       "      --disabled-fill-color: #AAA;\n",
       "      --disabled-bg-color: #DDD;\n",
       "  }\n",
       "\n",
       "  [theme=dark] .colab-df-quickchart {\n",
       "      --bg-color: #3B4455;\n",
       "      --fill-color: #D2E3FC;\n",
       "      --hover-bg-color: #434B5C;\n",
       "      --hover-fill-color: #FFFFFF;\n",
       "      --disabled-bg-color: #3B4455;\n",
       "      --disabled-fill-color: #666;\n",
       "  }\n",
       "\n",
       "  .colab-df-quickchart {\n",
       "    background-color: var(--bg-color);\n",
       "    border: none;\n",
       "    border-radius: 50%;\n",
       "    cursor: pointer;\n",
       "    display: none;\n",
       "    fill: var(--fill-color);\n",
       "    height: 32px;\n",
       "    padding: 0;\n",
       "    width: 32px;\n",
       "  }\n",
       "\n",
       "  .colab-df-quickchart:hover {\n",
       "    background-color: var(--hover-bg-color);\n",
       "    box-shadow: 0 1px 2px rgba(60, 64, 67, 0.3), 0 1px 3px 1px rgba(60, 64, 67, 0.15);\n",
       "    fill: var(--button-hover-fill-color);\n",
       "  }\n",
       "\n",
       "  .colab-df-quickchart-complete:disabled,\n",
       "  .colab-df-quickchart-complete:disabled:hover {\n",
       "    background-color: var(--disabled-bg-color);\n",
       "    fill: var(--disabled-fill-color);\n",
       "    box-shadow: none;\n",
       "  }\n",
       "\n",
       "  .colab-df-spinner {\n",
       "    border: 2px solid var(--fill-color);\n",
       "    border-color: transparent;\n",
       "    border-bottom-color: var(--fill-color);\n",
       "    animation:\n",
       "      spin 1s steps(1) infinite;\n",
       "  }\n",
       "\n",
       "  @keyframes spin {\n",
       "    0% {\n",
       "      border-color: transparent;\n",
       "      border-bottom-color: var(--fill-color);\n",
       "      border-left-color: var(--fill-color);\n",
       "    }\n",
       "    20% {\n",
       "      border-color: transparent;\n",
       "      border-left-color: var(--fill-color);\n",
       "      border-top-color: var(--fill-color);\n",
       "    }\n",
       "    30% {\n",
       "      border-color: transparent;\n",
       "      border-left-color: var(--fill-color);\n",
       "      border-top-color: var(--fill-color);\n",
       "      border-right-color: var(--fill-color);\n",
       "    }\n",
       "    40% {\n",
       "      border-color: transparent;\n",
       "      border-right-color: var(--fill-color);\n",
       "      border-top-color: var(--fill-color);\n",
       "    }\n",
       "    60% {\n",
       "      border-color: transparent;\n",
       "      border-right-color: var(--fill-color);\n",
       "    }\n",
       "    80% {\n",
       "      border-color: transparent;\n",
       "      border-right-color: var(--fill-color);\n",
       "      border-bottom-color: var(--fill-color);\n",
       "    }\n",
       "    90% {\n",
       "      border-color: transparent;\n",
       "      border-bottom-color: var(--fill-color);\n",
       "    }\n",
       "  }\n",
       "</style>\n",
       "\n",
       "  <script>\n",
       "    async function quickchart(key) {\n",
       "      const quickchartButtonEl =\n",
       "        document.querySelector('#' + key + ' button');\n",
       "      quickchartButtonEl.disabled = true;  // To prevent multiple clicks.\n",
       "      quickchartButtonEl.classList.add('colab-df-spinner');\n",
       "      try {\n",
       "        const charts = await google.colab.kernel.invokeFunction(\n",
       "            'suggestCharts', [key], {});\n",
       "      } catch (error) {\n",
       "        console.error('Error during call to suggestCharts:', error);\n",
       "      }\n",
       "      quickchartButtonEl.classList.remove('colab-df-spinner');\n",
       "      quickchartButtonEl.classList.add('colab-df-quickchart-complete');\n",
       "    }\n",
       "    (() => {\n",
       "      let quickchartButtonEl =\n",
       "        document.querySelector('#df-15e75bc9-b76f-4b2f-a69a-e6fa8b03bdf9 button');\n",
       "      quickchartButtonEl.style.display =\n",
       "        google.colab.kernel.accessAllowed ? 'block' : 'none';\n",
       "    })();\n",
       "  </script>\n",
       "</div>\n",
       "    </div>\n",
       "  </div>\n"
      ],
      "text/plain": [
       "                 file  width  height  depth       name  xmin  ymin  xmax  ymax\n",
       "0     maksssksksss176    400     225      3  with_mask   132    55   157    97\n",
       "1     maksssksksss176    400     225      3  with_mask    15    68    47   104\n",
       "2     maksssksksss176    400     225      3  with_mask    55    47    81    80\n",
       "3     maksssksksss176    400     225      3  with_mask   144    95   169   128\n",
       "4     maksssksksss176    400     225      3  with_mask   166    66   189    95\n",
       "...               ...    ...     ...    ...        ...   ...   ...   ...   ...\n",
       "4067  maksssksksss783    400     267      3  with_mask   136    59   153    76\n",
       "4068  maksssksksss783    400     267      3  with_mask   194   132   210   148\n",
       "4069  maksssksksss783    400     267      3  with_mask   243   136   258   150\n",
       "4070  maksssksksss783    400     267      3  with_mask   241    32   261    54\n",
       "4071  maksssksksss783    400     267      3  with_mask   330    23   353    52\n",
       "\n",
       "[4069 rows x 9 columns]"
      ]
     },
     "execution_count": 10,
     "metadata": {},
     "output_type": "execute_result"
    }
   ],
   "source": [
    "final_test_image = 'maksssksksss0'\n",
    "df_final_test = df.loc[df['file'] == final_test_image]\n",
    "\n",
    "images.remove(f'{final_test_image}.png')\n",
    "df = df.loc[df['file'] != final_test_image]\n",
    "\n",
    "df"
   ]
  },
  {
   "cell_type": "markdown",
   "metadata": {
    "id": "40y6932X1V5E"
   },
   "source": [
    "Count every class name"
   ]
  },
  {
   "cell_type": "code",
   "execution_count": 11,
   "metadata": {
    "colab": {
     "base_uri": "https://localhost:8080/"
    },
    "id": "6WA4JHczzQ_q",
    "outputId": "622f16aa-87dd-4351-ddd7-05897287519c"
   },
   "outputs": [
    {
     "data": {
      "text/plain": [
       "name\n",
       "with_mask                3231\n",
       "without_mask              715\n",
       "mask_weared_incorrect     123\n",
       "Name: count, dtype: int64"
      ]
     },
     "execution_count": 11,
     "metadata": {},
     "output_type": "execute_result"
    }
   ],
   "source": [
    "df['name'].value_counts()"
   ]
  },
  {
   "cell_type": "markdown",
   "metadata": {
    "id": "mlaD095f1zLx"
   },
   "source": [
    "Plot class Distributions"
   ]
  },
  {
   "cell_type": "code",
   "execution_count": 12,
   "metadata": {
    "colab": {
     "base_uri": "https://localhost:8080/",
     "height": 466
    },
    "id": "3gVdFYZk1h0F",
    "outputId": "e41c9756-fa39-468b-e136-5433339a54cb"
   },
   "outputs": [
    {
     "data": {
      "text/plain": [
       "Text(0, 0.5, 'Name')"
      ]
     },
     "execution_count": 12,
     "metadata": {},
     "output_type": "execute_result"
    },
    {
     "data": {
      "image/png": "[encoded data removed]",
      "text/plain": [
       "<Figure size 640x480 with 1 Axes>"
      ]
     },
     "metadata": {},
     "output_type": "display_data"
    }
   ],
   "source": [
    "df['name'].value_counts().plot(kind='barh')\n",
    "\n",
    "plt.xlabel('Count', fontsize=10, fontweight='bold')\n",
    "plt.ylabel('Name', fontsize=10, fontweight='bold')"
   ]
  },
  {
   "cell_type": "markdown",
   "metadata": {
    "id": "IwmJnqMB4r4D"
   },
   "source": [
    "Removing 'mask_weared_incorrect' class because we only need two calss with mask or without mask"
   ]
  },
  {
   "cell_type": "code",
   "execution_count": 13,
   "metadata": {
    "colab": {
     "base_uri": "https://localhost:8080/"
    },
    "id": "uisF5QyG2TMW",
    "outputId": "288baaae-1be0-4f6d-bce7-9cacff9ef62c"
   },
   "outputs": [
    {
     "data": {
      "text/plain": [
       "name\n",
       "with_mask       3231\n",
       "without_mask     715\n",
       "Name: count, dtype: int64"
      ]
     },
     "execution_count": 13,
     "metadata": {},
     "output_type": "execute_result"
    }
   ],
   "source": [
    "df = df.drop(df[df['name'] == 'mask_weared_incorrect'].index)\n",
    "\n",
    "df['name'].value_counts()"
   ]
  },
  {
   "cell_type": "code",
   "execution_count": 14,
   "metadata": {
    "colab": {
     "base_uri": "https://localhost:8080/",
     "height": 466
    },
    "id": "3tuV2-pb92du",
    "outputId": "20e055ce-ad4a-4632-dc2f-b6790a280294"
   },
   "outputs": [
    {
     "data": {
      "text/plain": [
       "Text(0, 0.5, 'Name')"
      ]
     },
     "execution_count": 14,
     "metadata": {},
     "output_type": "execute_result"
    },
    {
     "data": {
      "image/png": "[encoded data removed]",
      "text/plain": [
       "<Figure size 640x480 with 1 Axes>"
      ]
     },
     "metadata": {},
     "output_type": "display_data"
    }
   ],
   "source": [
    "df['name'].value_counts().plot(kind='barh')\n",
    "\n",
    "plt.xlabel('Count', fontsize=10, fontweight='bold')\n",
    "plt.ylabel('Name', fontsize=10, fontweight='bold')"
   ]
  },
  {
   "cell_type": "markdown",
   "metadata": {
    "id": "criPC9kvAIxq"
   },
   "source": [
    "## Dataset Splitting"
   ]
  },
  {
   "cell_type": "markdown",
   "metadata": {
    "id": "iCtjsSP4-K3u"
   },
   "source": [
    "Preparing Splitted Folders"
   ]
  },
  {
   "cell_type": "code",
   "execution_count": 15,
   "metadata": {
    "id": "TdQI8Auz-0LZ"
   },
   "outputs": [],
   "source": [
    "labels = df['name'].unique()\n",
    "directory = ['train', 'test', 'val']\n",
    "\n",
    "output_data_path = '.'\n",
    "\n",
    "for label in labels:\n",
    "  for d in directory:\n",
    "    path = os.path.join(output_data_path, d, label)\n",
    "\n",
    "    if not os.path.exists(path):\n",
    "      os.makedirs(path)"
   ]
  },
  {
   "cell_type": "markdown",
   "metadata": {
    "id": "jUHaHqFPAcVT"
   },
   "source": [
    "Crop images based on annotations"
   ]
  },
  {
   "cell_type": "code",
   "execution_count": 16,
   "metadata": {
    "id": "EioZUS2vDd4K"
   },
   "outputs": [],
   "source": [
    "def crop_img(image_path, x_min, y_min, x_max, y_max):\n",
    "  x_shift = (x_max - x_min) * 0.1\n",
    "  y_shift = (y_max - y_min) * 0.1\n",
    "\n",
    "  img = Image.open(image_path)\n",
    "  cropped = img.crop((x_min - x_shift, y_min - y_shift, x_max + x_shift, y_max + y_shift))\n",
    "\n",
    "  return cropped"
   ]
  },
  {
   "cell_type": "code",
   "execution_count": 17,
   "metadata": {
    "id": "oPwzhCvkAjhl"
   },
   "outputs": [],
   "source": [
    "def extract_faces(image_name, image_info):\n",
    "  faces = []\n",
    "  df_one_img = image_info[image_info['file'] == image_name[:-4]][['xmin', 'ymin', 'xmax', 'ymax', 'name']]\n",
    "\n",
    "  for row_num in range(len(df_one_img)):\n",
    "    x_min, y_min, x_max, y_max, label = df_one_img.iloc[row_num]\n",
    "    image_path = os.path.join(input_data_path, image_name)\n",
    "\n",
    "    faces.append((crop_img(image_path, x_min, y_min, x_max, y_max), label, f'{image_name[:-4]}_{(x_min, y_min)}'))\n",
    "\n",
    "  return faces"
   ]
  },
  {
   "cell_type": "code",
   "execution_count": 18,
   "metadata": {
    "id": "ZR7U579b_JsD"
   },
   "outputs": [],
   "source": [
    "cropped_images = [extract_faces(img, df) for img in images]"
   ]
  },
  {
   "cell_type": "code",
   "execution_count": 19,
   "metadata": {
    "id": "0w-5lpiwDVYM"
   },
   "outputs": [],
   "source": [
    "flat_cropped_faces = sum(cropped_images, [])"
   ]
  },
  {
   "cell_type": "code",
   "execution_count": 20,
   "metadata": {
    "id": "yF71oqqCFAAl"
   },
   "outputs": [],
   "source": [
    "with_mask = [(img, image_name) for img, label, image_name in flat_cropped_faces if label == 'with_mask']\n",
    "without_mask = [(img, image_name) for img, label, image_name in flat_cropped_faces if label == 'without_mask']"
   ]
  },
  {
   "cell_type": "code",
   "execution_count": 21,
   "metadata": {
    "colab": {
     "base_uri": "https://localhost:8080/"
    },
    "id": "2hxXujaXGkjC",
    "outputId": "4ef6b414-3456-40c6-c53b-49ea7e361c81"
   },
   "outputs": [
    {
     "name": "stdout",
     "output_type": "stream",
     "text": [
      "3231\n",
      "715\n"
     ]
    }
   ],
   "source": [
    "print(len(with_mask))\n",
    "print(len(without_mask))"
   ]
  },
  {
   "cell_type": "markdown",
   "metadata": {
    "id": "fSr3cuYF-Wm1"
   },
   "source": [
    "Start Splitting"
   ]
  },
  {
   "cell_type": "code",
   "execution_count": 22,
   "metadata": {
    "id": "y_4mB8X8G6C7"
   },
   "outputs": [],
   "source": [
    "with_mask_train, with_mask_test = train_test_split(with_mask, test_size=0.2, random_state=42)\n",
    "with_mask_test, with_mask_val = train_test_split(with_mask_test, test_size=0.7, random_state=42)\n",
    "\n",
    "without_mask_train, without_mask_test = train_test_split(without_mask, test_size=0.2, random_state=42)\n",
    "without_mask_test, without_mask_val = train_test_split(without_mask_test, test_size=0.7, random_state=42)"
   ]
  },
  {
   "cell_type": "markdown",
   "metadata": {
    "id": "UJf2zpvyJs3P"
   },
   "source": [
    "Saving Cropped dataset based on Dataset Splitting"
   ]
  },
  {
   "cell_type": "code",
   "execution_count": 23,
   "metadata": {
    "id": "ORgvA97ZI4iC"
   },
   "outputs": [],
   "source": [
    "def save_image(image, image_name, output_data_path, dataset_type, label):\n",
    "  output_path = os.path.join(output_data_path, dataset_type, label, f'{image_name}.png')\n",
    "\n",
    "  image.save(output_path)"
   ]
  },
  {
   "cell_type": "code",
   "execution_count": 24,
   "metadata": {
    "id": "jpG8vRW5Kcsr"
   },
   "outputs": [],
   "source": [
    "for image, image_name in with_mask_train:\n",
    "  save_image(image, image_name, output_data_path, 'train', 'with_mask')\n",
    "\n",
    "for image, image_name in without_mask_train:\n",
    "  save_image(image, image_name, output_data_path, 'train', 'without_mask')\n",
    "\n",
    "for image, image_name in with_mask_test:\n",
    "  save_image(image, image_name, output_data_path, 'test', 'with_mask')\n",
    "\n",
    "for image, image_name in without_mask_test:\n",
    "  save_image(image, image_name, output_data_path, 'test', 'without_mask')\n",
    "\n",
    "for image, image_name in with_mask_val:\n",
    "  save_image(image, image_name, output_data_path, 'val', 'with_mask')\n",
    "\n",
    "for image, image_name in without_mask_val:\n",
    "  save_image(image, image_name, output_data_path, 'val', 'without_mask')"
   ]
  },
  {
   "cell_type": "markdown",
   "metadata": {
    "id": "dOFCTR-qA0_h"
   },
   "source": [
    "Prepare Data Generator and Transformation"
   ]
  },
  {
   "cell_type": "code",
   "execution_count": 25,
   "metadata": {
    "colab": {
     "base_uri": "https://localhost:8080/"
    },
    "id": "8O9QYJqMY951",
    "outputId": "dcd22936-16d7-435d-e480-41688a5bb727"
   },
   "outputs": [
    {
     "name": "stdout",
     "output_type": "stream",
     "text": [
      "Found 3156 images belonging to 2 classes.\n",
      "Found 554 images belonging to 2 classes.\n",
      "Found 236 images belonging to 2 classes.\n"
     ]
    }
   ],
   "source": [
    "batch_size = 32\n",
    "target_size = (35, 35)\n",
    "\n",
    "datagen = ImageDataGenerator(rescale=(1.0 / 255), horizontal_flip=True, zoom_range=0.1, shear_range=0.2, width_shift_range=0.1,\n",
    "                                     height_shift_range=0.1, rotation_range=4, vertical_flip=False)\n",
    "val_datagen = ImageDataGenerator(rescale=(1.0 / 255))\n",
    "\n",
    "train_generator = datagen.flow_from_directory(directory='train', target_size=target_size, class_mode='categorical',\n",
    "                                              batch_size=batch_size, shuffle=True)\n",
    "val_generator = val_datagen.flow_from_directory(directory='val', target_size=target_size, class_mode='categorical',\n",
    "                                              batch_size=batch_size, shuffle=True)\n",
    "test_generator = val_datagen.flow_from_directory(directory='test', target_size=target_size, class_mode='categorical',\n",
    "                                              batch_size=batch_size, shuffle=True)"
   ]
  },
  {
   "cell_type": "markdown",
   "metadata": {
    "id": "6WEo7BR8_bbM"
   },
   "source": [
    "# Modeling"
   ]
  },
  {
   "cell_type": "markdown",
   "metadata": {
    "id": "CQ9qEyHmA4Fz"
   },
   "source": [
    "For tial and error, we need to make new file instead of overwritting model file to find the best model"
   ]
  },
  {
   "cell_type": "code",
   "execution_count": 26,
   "metadata": {
    "id": "T_L5zwEzY95y"
   },
   "outputs": [],
   "source": [
    "def rename_file_if_exists(file_path):\n",
    "    if not os.path.exists(file_path):\n",
    "        return file_path\n",
    "\n",
    "    index = 1\n",
    "    base_name, ext = os.path.splitext(file_path)\n",
    "    new_file_path = f'{base_name}_{index}{ext}'\n",
    "\n",
    "    while os.path.exists(new_file_path):\n",
    "        index += 1\n",
    "        new_file_path = f'{base_name}_{index}{ext}'\n",
    "\n",
    "    return new_file_path"
   ]
  },
  {
   "cell_type": "markdown",
   "metadata": {
    "id": "X0xxkV_N_0Qr"
   },
   "source": [
    "## Build Model and Hyperparameter Tuning"
   ]
  },
  {
   "cell_type": "markdown",
   "metadata": {
    "id": "1rPi_2AEACZJ"
   },
   "source": [
    "\n",
    "\n",
    "1.   Model Build with 2D Convolutional Neural Network with input shape (35, 35, 3) where '35, 35' target image size and '3' is RGB channel\n",
    "2.   Hyperparameter Tuned using Hyperband method\n",
    "3.   Tuned Parameter lists:\n",
    "      *   Number of Feature Extraction layer (2D Convolution) with maximum 5 layers\n",
    "      *   Convolution Filter with options: 8, 16, 32 and 64\n",
    "      *   Kernel Size with option 3x3 or 5x5\n",
    "      *   Stride with option 1 or 3\n",
    "      *   Number of Fully Connected layer with maximum 5 layers\n",
    "      *   Fully connected units with options: 8, 16, 32 and 64\n",
    "      *   Dropout Rate with range between 0.1 to 0.9 and 0.1 steps\n",
    "      *   Three option for Optimizer: Adam, RMSProp and SGD\n",
    "      *   Loss function with option Binary Crossentropy for two output class or Categorical Crossentropy for more than two class\n",
    "      *   Initiate first learning rate before adapted by callback\n",
    "4.   Train model configured with 100 epochs, 256 batch size and 3 callbacks:\n",
    "      *   Model Checkpoint to save best weight only with monitoring validation accuracy\n",
    "      *   Train will be stopped Early when validation accuracy doesn't improve in 50 epochs\n",
    "      *   Learning rate will reduced by factor 0.3 when validation accuracy doesn't improve in 10 epocs\n",
    "\n",
    "\n",
    "\n",
    "\n"
   ]
  },
  {
   "cell_type": "code",
   "execution_count": null,
   "metadata": {
    "id": "vXC6YBGWK0p9"
   },
   "outputs": [],
   "source": [
    "class TrainModel:\n",
    "    def __init__(self):\n",
    "        self.epochs = 100\n",
    "        self.batch_size = 256\n",
    "        self.es_patience = 50\n",
    "        self.lr_patience = 10\n",
    "        self.target_size = (35, 35)\n",
    "\n",
    "    def build_model(self, hp):\n",
    "        model = Sequential()\n",
    "\n",
    "        num_conv_layers = hp.Int('num_conv_layers', min_value=1, max_value=5, step=1)\n",
    "\n",
    "        for i in range(num_conv_layers):\n",
    "            num_conv_filters = hp.Choice(f'num_conv_filters_{i}', values=[8, 16, 32, 64])\n",
    "            kernel_size = hp.Choice(f'kernel_size_{i}', values=[3, 5])\n",
    "            stride = hp.Choice(f'stride_{i}', values=[1, 3])\n",
    "\n",
    "            if i == 0:\n",
    "                model.add(Conv2D(num_conv_filters, kernel_size=kernel_size, strides=stride, padding='same',\n",
    "                                 activation='relu', input_shape=(35, 35, 3)))\n",
    "                model.add(MaxPooling2D(padding='same'))\n",
    "            else:\n",
    "                model.add(Conv2D(num_conv_filters, kernel_size=kernel_size, strides=stride, padding='same',\n",
    "                                 activation='relu'))\n",
    "                model.add(MaxPooling2D(padding='same'))\n",
    "\n",
    "        model.add(Flatten())\n",
    "\n",
    "        num_hidden_layers = hp.Int('num_hidden_layers', min_value=1, max_value=5, step=1)\n",
    "        for i in range(num_hidden_layers):\n",
    "            num_units = hp.Choice(f'num_units_{i}', values=[8, 16, 32, 64])\n",
    "            dropout_rate = hp.Float(f'dropout_rate_{i}', min_value=0.1, max_value=0.9, step=0.1)\n",
    "\n",
    "            model.add(Dense(num_units, activation='relu'))\n",
    "            model.add(Dropout(dropout_rate))\n",
    "\n",
    "            if (i == (num_hidden_layers - 1)):\n",
    "                model.add(Dense(2, activation='sigmoid'))\n",
    "\n",
    "        optimizer = hp.Choice('optimizer', values=['Adam', 'RMSprop', 'SGD'])\n",
    "        loss_function = hp.Choice('loss_function', values=['binary_crossentropy', 'categorical_crossentropy'])\n",
    "        learning_rate = hp.Choice('learning_rate', values=[1e-5, 1e-4, 1e-3, 3e-3, 1e-2, 3e-2, 0.1, 0.3])\n",
    "        if optimizer == 'Adam':\n",
    "            opt = Adam(learning_rate=learning_rate)\n",
    "            model.compile(loss=loss_function, optimizer=opt, metrics=['accuracy'])\n",
    "\n",
    "        if optimizer == 'RMSprop':\n",
    "            opt = RMSprop(learning_rate=learning_rate)\n",
    "            model.compile(loss=loss_function, optimizer=opt, metrics=['accuracy'])\n",
    "\n",
    "        if optimizer == 'SGD':\n",
    "            opt = SGD(learning_rate=learning_rate)\n",
    "            model.compile(loss=loss_function, optimizer=opt, metrics=['accuracy'])\n",
    "\n",
    "        return model\n",
    "\n",
    "    def train_model(self):\n",
    "        if not os.path.exists('models'):\n",
    "            os.makedirs('models')\n",
    "\n",
    "        model_name = 'models/' + str('face_mask_detection_cnn_verihubs_test_AdityaLesmana-new.h5')\n",
    "        model_name = rename_file_if_exists(model_name)\n",
    "\n",
    "        cp = ModelCheckpoint(f'{model_name}', monitor='val_accuracy', save_best_only=True,\n",
    "                             save_weights_only=False, mode='auto', save_freq='epoch', verbose=1)\n",
    "\n",
    "        early_stopping = EarlyStopping(monitor='val_accuracy', patience=self.es_patience)\n",
    "        reduce_lr = ReduceLROnPlateau(monitor='val_accuracy', factor=0.2, patience=self.lr_patience)\n",
    "\n",
    "        hyperband_tuner = kt.Hyperband(\n",
    "            self.build_model,\n",
    "            objective='val_accuracy',\n",
    "            max_epochs=self.epochs,\n",
    "            factor=3,\n",
    "            seed=42,\n",
    "            directory='tuners',\n",
    "            project_name=str('face_mask_detection_cnn_verihubs_test_aditya_lesmana-new')\n",
    "        )\n",
    "\n",
    "        best_hyperband_param = {}\n",
    "        hyperband_tuner.search(train_generator, validation_data=val_generator, epochs=self.epochs, batch_size=self.batch_size,\n",
    "                               shuffle=True)\n",
    "\n",
    "        hyperband_results = hyperband_tuner.results_summary()\n",
    "        best_hyperband_param = hyperband_tuner.get_best_hyperparameters(num_trials=1)[0]\n",
    "        best_hyperband_model = hyperband_tuner.hypermodel.build(best_hyperband_param)\n",
    "\n",
    "        best_hyperband_model = best_hyperband_model.fit(train_generator, validation_data=val_generator, epochs=self.epochs,\n",
    "                                                                  batch_size=self.batch_size, callbacks=[cp, early_stopping, reduce_lr], shuffle=True)\n",
    "\n",
    "        return best_hyperband_param, hyperband_results, best_hyperband_model"
   ]
  },
  {
   "cell_type": "code",
   "execution_count": null,
   "metadata": {
    "colab": {
     "base_uri": "https://localhost:8080/"
    },
    "id": "SjD_po0rY952",
    "outputId": "93436412-7130-4ae9-aae3-bc4185cf97c5"
   },
   "outputs": [
    {
     "name": "stdout",
     "output_type": "stream",
     "text": [
      "Trial 254 Complete [00h 03m 10s]\n",
      "val_accuracy: 0.8414442539215088\n",
      "\n",
      "Best val_accuracy So Far: 0.9890109896659851\n",
      "Total elapsed time: 01h 26m 26s\n",
      "Results summary\n",
      "Results in tuners\\face_mask_detection_cnn_verihubs_test_aditya_lesmana-new\n",
      "Showing 10 best trials\n",
      "Objective(name=\"val_accuracy\", direction=\"max\")\n",
      "\n",
      "Trial 0146 summary\n",
      "Hyperparameters:\n",
      "num_conv_layers: 3\n",
      "num_conv_filters_0: 16\n",
      "kernel_size_0: 5\n",
      "stride_0: 1\n",
      "num_hidden_layers: 2\n",
      "num_units_0: 64\n",
      "dropout_rate_0: 0.5\n",
      "optimizer: Adam\n",
      "loss_function: binary_crossentropy\n",
      "learning_rate: 0.001\n",
      "num_conv_filters_1: 16\n",
      "kernel_size_1: 5\n",
      "stride_1: 1\n",
      "num_conv_filters_2: 32\n",
      "kernel_size_2: 5\n",
      "stride_2: 3\n",
      "num_conv_filters_3: 8\n",
      "kernel_size_3: 3\n",
      "stride_3: 3\n",
      "num_units_1: 64\n",
      "dropout_rate_1: 0.7000000000000001\n",
      "num_units_2: 16\n",
      "dropout_rate_2: 0.7000000000000001\n",
      "num_units_3: 32\n",
      "dropout_rate_3: 0.4\n",
      "num_units_4: 32\n",
      "dropout_rate_4: 0.4\n",
      "num_conv_filters_4: 16\n",
      "kernel_size_4: 3\n",
      "stride_4: 3\n",
      "tuner/epochs: 100\n",
      "tuner/initial_epoch: 34\n",
      "tuner/bracket: 4\n",
      "tuner/round: 4\n",
      "tuner/trial_id: 0142\n",
      "Score: 0.9890109896659851\n",
      "\n",
      "Trial 0142 summary\n",
      "Hyperparameters:\n",
      "num_conv_layers: 3\n",
      "num_conv_filters_0: 16\n",
      "kernel_size_0: 5\n",
      "stride_0: 1\n",
      "num_hidden_layers: 2\n",
      "num_units_0: 64\n",
      "dropout_rate_0: 0.5\n",
      "optimizer: Adam\n",
      "loss_function: binary_crossentropy\n",
      "learning_rate: 0.001\n",
      "num_conv_filters_1: 16\n",
      "kernel_size_1: 5\n",
      "stride_1: 1\n",
      "num_conv_filters_2: 32\n",
      "kernel_size_2: 5\n",
      "stride_2: 3\n",
      "num_conv_filters_3: 8\n",
      "kernel_size_3: 3\n",
      "stride_3: 3\n",
      "num_units_1: 64\n",
      "dropout_rate_1: 0.7000000000000001\n",
      "num_units_2: 16\n",
      "dropout_rate_2: 0.7000000000000001\n",
      "num_units_3: 32\n",
      "dropout_rate_3: 0.4\n",
      "num_units_4: 32\n",
      "dropout_rate_4: 0.4\n",
      "num_conv_filters_4: 16\n",
      "kernel_size_4: 3\n",
      "stride_4: 3\n",
      "tuner/epochs: 34\n",
      "tuner/initial_epoch: 12\n",
      "tuner/bracket: 4\n",
      "tuner/round: 3\n",
      "tuner/trial_id: 0131\n",
      "Score: 0.9874411225318909\n",
      "\n",
      "Trial 0234 summary\n",
      "Hyperparameters:\n",
      "num_conv_layers: 4\n",
      "num_conv_filters_0: 64\n",
      "kernel_size_0: 3\n",
      "stride_0: 3\n",
      "num_hidden_layers: 2\n",
      "num_units_0: 8\n",
      "dropout_rate_0: 0.2\n",
      "optimizer: Adam\n",
      "loss_function: binary_crossentropy\n",
      "learning_rate: 0.003\n",
      "num_conv_filters_1: 32\n",
      "kernel_size_1: 5\n",
      "stride_1: 1\n",
      "num_conv_filters_2: 32\n",
      "kernel_size_2: 5\n",
      "stride_2: 3\n",
      "num_conv_filters_3: 64\n",
      "kernel_size_3: 3\n",
      "stride_3: 1\n",
      "num_units_1: 16\n",
      "dropout_rate_1: 0.30000000000000004\n",
      "num_units_2: 8\n",
      "dropout_rate_2: 0.5\n",
      "num_units_3: 64\n",
      "dropout_rate_3: 0.6\n",
      "num_units_4: 32\n",
      "dropout_rate_4: 0.6\n",
      "num_conv_filters_4: 32\n",
      "kernel_size_4: 3\n",
      "stride_4: 3\n",
      "tuner/epochs: 100\n",
      "tuner/initial_epoch: 34\n",
      "tuner/bracket: 2\n",
      "tuner/round: 2\n",
      "tuner/trial_id: 0228\n",
      "Score: 0.9874411225318909\n",
      "\n",
      "Trial 0245 summary\n",
      "Hyperparameters:\n",
      "num_conv_layers: 4\n",
      "num_conv_filters_0: 32\n",
      "kernel_size_0: 5\n",
      "stride_0: 1\n",
      "num_hidden_layers: 1\n",
      "num_units_0: 64\n",
      "dropout_rate_0: 0.5\n",
      "optimizer: SGD\n",
      "loss_function: binary_crossentropy\n",
      "learning_rate: 0.1\n",
      "num_conv_filters_1: 8\n",
      "kernel_size_1: 5\n",
      "stride_1: 1\n",
      "num_conv_filters_2: 64\n",
      "kernel_size_2: 3\n",
      "stride_2: 3\n",
      "num_conv_filters_3: 8\n",
      "kernel_size_3: 3\n",
      "stride_3: 3\n",
      "num_units_1: 16\n",
      "dropout_rate_1: 0.30000000000000004\n",
      "num_units_2: 64\n",
      "dropout_rate_2: 0.8\n",
      "num_units_3: 16\n",
      "dropout_rate_3: 0.2\n",
      "num_units_4: 16\n",
      "dropout_rate_4: 0.9\n",
      "num_conv_filters_4: 64\n",
      "kernel_size_4: 3\n",
      "stride_4: 1\n",
      "tuner/epochs: 100\n",
      "tuner/initial_epoch: 34\n",
      "tuner/bracket: 1\n",
      "tuner/round: 1\n",
      "tuner/trial_id: 0237\n",
      "Score: 0.9874411225318909\n",
      "\n",
      "Trial 0246 summary\n",
      "Hyperparameters:\n",
      "num_conv_layers: 4\n",
      "num_conv_filters_0: 64\n",
      "kernel_size_0: 5\n",
      "stride_0: 1\n",
      "num_hidden_layers: 2\n",
      "num_units_0: 64\n",
      "dropout_rate_0: 0.6\n",
      "optimizer: SGD\n",
      "loss_function: squared_hinge\n",
      "learning_rate: 0.1\n",
      "num_conv_filters_1: 8\n",
      "kernel_size_1: 3\n",
      "stride_1: 3\n",
      "num_conv_filters_2: 8\n",
      "kernel_size_2: 5\n",
      "stride_2: 1\n",
      "num_conv_filters_3: 8\n",
      "kernel_size_3: 3\n",
      "stride_3: 3\n",
      "num_units_1: 64\n",
      "dropout_rate_1: 0.1\n",
      "num_units_2: 16\n",
      "dropout_rate_2: 0.4\n",
      "num_units_3: 16\n",
      "dropout_rate_3: 0.7000000000000001\n",
      "num_units_4: 32\n",
      "dropout_rate_4: 0.4\n",
      "num_conv_filters_4: 16\n",
      "kernel_size_4: 5\n",
      "stride_4: 1\n",
      "tuner/epochs: 100\n",
      "tuner/initial_epoch: 34\n",
      "tuner/bracket: 1\n",
      "tuner/round: 1\n",
      "tuner/trial_id: 0240\n",
      "Score: 0.9843013882637024\n",
      "\n",
      "Trial 0143 summary\n",
      "Hyperparameters:\n",
      "num_conv_layers: 4\n",
      "num_conv_filters_0: 8\n",
      "kernel_size_0: 5\n",
      "stride_0: 1\n",
      "num_hidden_layers: 3\n",
      "num_units_0: 16\n",
      "dropout_rate_0: 0.6\n",
      "optimizer: Adam\n",
      "loss_function: binary_crossentropy\n",
      "learning_rate: 0.003\n",
      "num_conv_filters_1: 64\n",
      "kernel_size_1: 5\n",
      "stride_1: 1\n",
      "num_conv_filters_2: 64\n",
      "kernel_size_2: 3\n",
      "stride_2: 3\n",
      "num_conv_filters_3: 32\n",
      "kernel_size_3: 3\n",
      "stride_3: 3\n",
      "num_units_1: 32\n",
      "dropout_rate_1: 0.2\n",
      "num_units_2: 32\n",
      "dropout_rate_2: 0.5\n",
      "num_units_3: 32\n",
      "dropout_rate_3: 0.1\n",
      "num_units_4: 8\n",
      "dropout_rate_4: 0.2\n",
      "num_conv_filters_4: 32\n",
      "kernel_size_4: 5\n",
      "stride_4: 3\n",
      "tuner/epochs: 34\n",
      "tuner/initial_epoch: 12\n",
      "tuner/bracket: 4\n",
      "tuner/round: 3\n",
      "tuner/trial_id: 0132\n",
      "Score: 0.9827315807342529\n",
      "\n",
      "Trial 0228 summary\n",
      "Hyperparameters:\n",
      "num_conv_layers: 4\n",
      "num_conv_filters_0: 64\n",
      "kernel_size_0: 3\n",
      "stride_0: 3\n",
      "num_hidden_layers: 2\n",
      "num_units_0: 8\n",
      "dropout_rate_0: 0.2\n",
      "optimizer: Adam\n",
      "loss_function: binary_crossentropy\n",
      "learning_rate: 0.003\n",
      "num_conv_filters_1: 32\n",
      "kernel_size_1: 5\n",
      "stride_1: 1\n",
      "num_conv_filters_2: 32\n",
      "kernel_size_2: 5\n",
      "stride_2: 3\n",
      "num_conv_filters_3: 64\n",
      "kernel_size_3: 3\n",
      "stride_3: 1\n",
      "num_units_1: 16\n",
      "dropout_rate_1: 0.30000000000000004\n",
      "num_units_2: 8\n",
      "dropout_rate_2: 0.5\n",
      "num_units_3: 64\n",
      "dropout_rate_3: 0.6\n",
      "num_units_4: 32\n",
      "dropout_rate_4: 0.6\n",
      "num_conv_filters_4: 32\n",
      "kernel_size_4: 3\n",
      "stride_4: 3\n",
      "tuner/epochs: 34\n",
      "tuner/initial_epoch: 12\n",
      "tuner/bracket: 2\n",
      "tuner/round: 1\n",
      "tuner/trial_id: 0210\n",
      "Score: 0.9827315807342529\n",
      "\n",
      "Trial 0147 summary\n",
      "Hyperparameters:\n",
      "num_conv_layers: 4\n",
      "num_conv_filters_0: 8\n",
      "kernel_size_0: 5\n",
      "stride_0: 1\n",
      "num_hidden_layers: 3\n",
      "num_units_0: 16\n",
      "dropout_rate_0: 0.6\n",
      "optimizer: Adam\n",
      "loss_function: binary_crossentropy\n",
      "learning_rate: 0.003\n",
      "num_conv_filters_1: 64\n",
      "kernel_size_1: 5\n",
      "stride_1: 1\n",
      "num_conv_filters_2: 64\n",
      "kernel_size_2: 3\n",
      "stride_2: 3\n",
      "num_conv_filters_3: 32\n",
      "kernel_size_3: 3\n",
      "stride_3: 3\n",
      "num_units_1: 32\n",
      "dropout_rate_1: 0.2\n",
      "num_units_2: 32\n",
      "dropout_rate_2: 0.5\n",
      "num_units_3: 32\n",
      "dropout_rate_3: 0.1\n",
      "num_units_4: 8\n",
      "dropout_rate_4: 0.2\n",
      "num_conv_filters_4: 32\n",
      "kernel_size_4: 5\n",
      "stride_4: 3\n",
      "tuner/epochs: 100\n",
      "tuner/initial_epoch: 34\n",
      "tuner/bracket: 4\n",
      "tuner/round: 4\n",
      "tuner/trial_id: 0143\n",
      "Score: 0.9811617136001587\n",
      "\n",
      "Trial 0204 summary\n",
      "Hyperparameters:\n",
      "num_conv_layers: 2\n",
      "num_conv_filters_0: 8\n",
      "kernel_size_0: 5\n",
      "stride_0: 1\n",
      "num_hidden_layers: 3\n",
      "num_units_0: 16\n",
      "dropout_rate_0: 0.1\n",
      "optimizer: RMSprop\n",
      "loss_function: binary_crossentropy\n",
      "learning_rate: 0.003\n",
      "num_conv_filters_1: 8\n",
      "kernel_size_1: 5\n",
      "stride_1: 1\n",
      "num_conv_filters_2: 32\n",
      "kernel_size_2: 5\n",
      "stride_2: 3\n",
      "num_conv_filters_3: 8\n",
      "kernel_size_3: 5\n",
      "stride_3: 3\n",
      "num_units_1: 32\n",
      "dropout_rate_1: 0.8\n",
      "num_units_2: 8\n",
      "dropout_rate_2: 0.5\n",
      "num_units_3: 16\n",
      "dropout_rate_3: 0.6\n",
      "num_units_4: 8\n",
      "dropout_rate_4: 0.8\n",
      "num_conv_filters_4: 16\n",
      "kernel_size_4: 5\n",
      "stride_4: 3\n",
      "tuner/epochs: 34\n",
      "tuner/initial_epoch: 12\n",
      "tuner/bracket: 3\n",
      "tuner/round: 2\n",
      "tuner/trial_id: 0190\n",
      "Score: 0.9811617136001587\n",
      "\n",
      "Trial 0208 summary\n",
      "Hyperparameters:\n",
      "num_conv_layers: 2\n",
      "num_conv_filters_0: 8\n",
      "kernel_size_0: 5\n",
      "stride_0: 1\n",
      "num_hidden_layers: 3\n",
      "num_units_0: 16\n",
      "dropout_rate_0: 0.1\n",
      "optimizer: RMSprop\n",
      "loss_function: binary_crossentropy\n",
      "learning_rate: 0.003\n",
      "num_conv_filters_1: 8\n",
      "kernel_size_1: 5\n",
      "stride_1: 1\n",
      "num_conv_filters_2: 32\n",
      "kernel_size_2: 5\n",
      "stride_2: 3\n",
      "num_conv_filters_3: 8\n",
      "kernel_size_3: 5\n",
      "stride_3: 3\n",
      "num_units_1: 32\n",
      "dropout_rate_1: 0.8\n",
      "num_units_2: 8\n",
      "dropout_rate_2: 0.5\n",
      "num_units_3: 16\n",
      "dropout_rate_3: 0.6\n",
      "num_units_4: 8\n",
      "dropout_rate_4: 0.8\n",
      "num_conv_filters_4: 16\n",
      "kernel_size_4: 5\n",
      "stride_4: 3\n",
      "tuner/epochs: 100\n",
      "tuner/initial_epoch: 34\n",
      "tuner/bracket: 3\n",
      "tuner/round: 3\n",
      "tuner/trial_id: 0204\n",
      "Score: 0.9811617136001587\n",
      "Epoch 1/100\n",
      "99/99 [==============================] - ETA: 0s - loss: 0.4322 - accuracy: 0.8048\n",
      "Epoch 1: val_accuracy improved from -inf to 0.86185, saving model to models\\face_mask_detection_cnn_verihubs_test_AdityaLesmana-new.h5\n",
      "99/99 [==============================] - 2s 20ms/step - loss: 0.4322 - accuracy: 0.8048 - val_loss: 0.1903 - val_accuracy: 0.8619 - lr: 0.0010\n",
      "Epoch 2/100\n",
      "98/99 [============================>.] - ETA: 0s - loss: 0.2447 - accuracy: 0.8803\n",
      "Epoch 2: val_accuracy improved from 0.86185 to 0.95447, saving model to models\\face_mask_detection_cnn_verihubs_test_AdityaLesmana-new.h5\n",
      "99/99 [==============================] - 2s 21ms/step - loss: 0.2453 - accuracy: 0.8802 - val_loss: 0.1441 - val_accuracy: 0.9545 - lr: 0.0010\n",
      "Epoch 3/100\n",
      "99/99 [==============================] - ETA: 0s - loss: 0.1703 - accuracy: 0.9401\n",
      "Epoch 3: val_accuracy improved from 0.95447 to 0.97017, saving model to models\\face_mask_detection_cnn_verihubs_test_AdityaLesmana-new.h5\n",
      "99/99 [==============================] - 2s 21ms/step - loss: 0.1703 - accuracy: 0.9401 - val_loss: 0.1091 - val_accuracy: 0.9702 - lr: 0.0010\n",
      "Epoch 4/100\n",
      "97/99 [============================>.] - ETA: 0s - loss: 0.1389 - accuracy: 0.9521\n",
      "Epoch 4: val_accuracy did not improve from 0.97017\n",
      "99/99 [==============================] - 2s 20ms/step - loss: 0.1384 - accuracy: 0.9528 - val_loss: 0.1080 - val_accuracy: 0.9623 - lr: 0.0010\n",
      "Epoch 5/100\n",
      "98/99 [============================>.] - ETA: 0s - loss: 0.1426 - accuracy: 0.9539\n",
      "Epoch 5: val_accuracy did not improve from 0.97017\n",
      "99/99 [==============================] - 2s 20ms/step - loss: 0.1422 - accuracy: 0.9537 - val_loss: 0.1113 - val_accuracy: 0.9639 - lr: 0.0010\n",
      "Epoch 6/100\n",
      "98/99 [============================>.] - ETA: 0s - loss: 0.1324 - accuracy: 0.9587\n",
      "Epoch 6: val_accuracy did not improve from 0.97017\n",
      "99/99 [==============================] - 2s 21ms/step - loss: 0.1314 - accuracy: 0.9591 - val_loss: 0.1054 - val_accuracy: 0.9608 - lr: 0.0010\n",
      "Epoch 7/100\n",
      "98/99 [============================>.] - ETA: 0s - loss: 0.1236 - accuracy: 0.9600\n",
      "Epoch 7: val_accuracy improved from 0.97017 to 0.97488, saving model to models\\face_mask_detection_cnn_verihubs_test_AdityaLesmana-new.h5\n",
      "99/99 [==============================] - 2s 20ms/step - loss: 0.1240 - accuracy: 0.9598 - val_loss: 0.0934 - val_accuracy: 0.9749 - lr: 0.0010\n",
      "Epoch 8/100\n",
      "97/99 [============================>.] - ETA: 0s - loss: 0.1128 - accuracy: 0.9615\n",
      "Epoch 8: val_accuracy did not improve from 0.97488\n",
      "99/99 [==============================] - 2s 19ms/step - loss: 0.1116 - accuracy: 0.9617 - val_loss: 0.0967 - val_accuracy: 0.9749 - lr: 0.0010\n",
      "Epoch 9/100\n",
      "96/99 [============================>.] - ETA: 0s - loss: 0.1193 - accuracy: 0.9631\n",
      "Epoch 9: val_accuracy improved from 0.97488 to 0.97645, saving model to models\\face_mask_detection_cnn_verihubs_test_AdityaLesmana-new.h5\n",
      "99/99 [==============================] - 2s 19ms/step - loss: 0.1207 - accuracy: 0.9623 - val_loss: 0.0981 - val_accuracy: 0.9765 - lr: 0.0010\n",
      "Epoch 10/100\n",
      "99/99 [==============================] - ETA: 0s - loss: 0.1162 - accuracy: 0.9636\n",
      "Epoch 10: val_accuracy improved from 0.97645 to 0.97802, saving model to models\\face_mask_detection_cnn_verihubs_test_AdityaLesmana-new.h5\n",
      "99/99 [==============================] - 2s 19ms/step - loss: 0.1162 - accuracy: 0.9636 - val_loss: 0.0793 - val_accuracy: 0.9780 - lr: 0.0010\n",
      "Epoch 11/100\n",
      "98/99 [============================>.] - ETA: 0s - loss: 0.1129 - accuracy: 0.9635\n",
      "Epoch 11: val_accuracy did not improve from 0.97802\n",
      "99/99 [==============================] - 2s 19ms/step - loss: 0.1127 - accuracy: 0.9632 - val_loss: 0.0765 - val_accuracy: 0.9733 - lr: 0.0010\n",
      "Epoch 12/100\n",
      "97/99 [============================>.] - ETA: 0s - loss: 0.1168 - accuracy: 0.9673\n",
      "Epoch 12: val_accuracy did not improve from 0.97802\n",
      "99/99 [==============================] - 2s 19ms/step - loss: 0.1162 - accuracy: 0.9674 - val_loss: 0.0788 - val_accuracy: 0.9733 - lr: 0.0010\n",
      "Epoch 13/100\n",
      "97/99 [============================>.] - ETA: 0s - loss: 0.1004 - accuracy: 0.9690\n",
      "Epoch 13: val_accuracy did not improve from 0.97802\n",
      "99/99 [==============================] - 2s 18ms/step - loss: 0.1011 - accuracy: 0.9683 - val_loss: 0.0734 - val_accuracy: 0.9780 - lr: 0.0010\n",
      "Epoch 14/100\n",
      "99/99 [==============================] - ETA: 0s - loss: 0.1006 - accuracy: 0.9667\n",
      "Epoch 14: val_accuracy did not improve from 0.97802\n",
      "99/99 [==============================] - 2s 19ms/step - loss: 0.1006 - accuracy: 0.9667 - val_loss: 0.0789 - val_accuracy: 0.9655 - lr: 0.0010\n",
      "Epoch 15/100\n",
      "99/99 [==============================] - ETA: 0s - loss: 0.1081 - accuracy: 0.9674\n",
      "Epoch 15: val_accuracy did not improve from 0.97802\n",
      "99/99 [==============================] - 2s 19ms/step - loss: 0.1081 - accuracy: 0.9674 - val_loss: 0.0771 - val_accuracy: 0.9765 - lr: 0.0010\n",
      "Epoch 16/100\n",
      "96/99 [============================>.] - ETA: 0s - loss: 0.0937 - accuracy: 0.9683\n",
      "Epoch 16: val_accuracy did not improve from 0.97802\n",
      "99/99 [==============================] - 2s 18ms/step - loss: 0.0965 - accuracy: 0.9683 - val_loss: 0.0832 - val_accuracy: 0.9717 - lr: 0.0010\n",
      "Epoch 17/100\n",
      "98/99 [============================>.] - ETA: 0s - loss: 0.0967 - accuracy: 0.9686\n",
      "Epoch 17: val_accuracy did not improve from 0.97802\n",
      "99/99 [==============================] - 2s 19ms/step - loss: 0.0964 - accuracy: 0.9686 - val_loss: 0.0677 - val_accuracy: 0.9765 - lr: 0.0010\n",
      "Epoch 18/100\n",
      "96/99 [============================>.] - ETA: 0s - loss: 0.0980 - accuracy: 0.9657\n",
      "Epoch 18: val_accuracy improved from 0.97802 to 0.98273, saving model to models\\face_mask_detection_cnn_verihubs_test_AdityaLesmana-new.h5\n",
      "99/99 [==============================] - 2s 19ms/step - loss: 0.0985 - accuracy: 0.9664 - val_loss: 0.0713 - val_accuracy: 0.9827 - lr: 0.0010\n",
      "Epoch 19/100\n",
      "99/99 [==============================] - ETA: 0s - loss: 0.0892 - accuracy: 0.9683\n",
      "Epoch 19: val_accuracy did not improve from 0.98273\n",
      "99/99 [==============================] - 2s 19ms/step - loss: 0.0892 - accuracy: 0.9683 - val_loss: 0.0810 - val_accuracy: 0.9796 - lr: 0.0010\n",
      "Epoch 20/100\n",
      "99/99 [==============================] - ETA: 0s - loss: 0.1063 - accuracy: 0.9623\n",
      "Epoch 20: val_accuracy did not improve from 0.98273\n",
      "99/99 [==============================] - 2s 19ms/step - loss: 0.1063 - accuracy: 0.9623 - val_loss: 0.0731 - val_accuracy: 0.9765 - lr: 0.0010\n",
      "Epoch 21/100\n",
      "98/99 [============================>.] - ETA: 0s - loss: 0.0878 - accuracy: 0.9722\n",
      "Epoch 21: val_accuracy did not improve from 0.98273\n",
      "99/99 [==============================] - 2s 19ms/step - loss: 0.0885 - accuracy: 0.9718 - val_loss: 0.0734 - val_accuracy: 0.9733 - lr: 0.0010\n",
      "Epoch 22/100\n",
      "96/99 [============================>.] - ETA: 0s - loss: 0.0852 - accuracy: 0.9683\n",
      "Epoch 22: val_accuracy did not improve from 0.98273\n",
      "99/99 [==============================] - 2s 19ms/step - loss: 0.0863 - accuracy: 0.9677 - val_loss: 0.0752 - val_accuracy: 0.9780 - lr: 0.0010\n",
      "Epoch 23/100\n",
      "96/99 [============================>.] - ETA: 0s - loss: 0.0927 - accuracy: 0.9696\n",
      "Epoch 23: val_accuracy did not improve from 0.98273\n",
      "99/99 [==============================] - 2s 19ms/step - loss: 0.0931 - accuracy: 0.9689 - val_loss: 0.0703 - val_accuracy: 0.9780 - lr: 0.0010\n",
      "Epoch 24/100\n",
      "99/99 [==============================] - ETA: 0s - loss: 0.0841 - accuracy: 0.9705\n",
      "Epoch 24: val_accuracy did not improve from 0.98273\n",
      "99/99 [==============================] - 2s 19ms/step - loss: 0.0841 - accuracy: 0.9705 - val_loss: 0.0922 - val_accuracy: 0.9796 - lr: 0.0010\n",
      "Epoch 25/100\n",
      "99/99 [==============================] - ETA: 0s - loss: 0.0863 - accuracy: 0.9702\n",
      "Epoch 25: val_accuracy did not improve from 0.98273\n",
      "99/99 [==============================] - 2s 19ms/step - loss: 0.0863 - accuracy: 0.9702 - val_loss: 0.0754 - val_accuracy: 0.9749 - lr: 0.0010\n",
      "Epoch 26/100\n",
      "99/99 [==============================] - ETA: 0s - loss: 0.0889 - accuracy: 0.9702\n",
      "Epoch 26: val_accuracy did not improve from 0.98273\n",
      "99/99 [==============================] - 2s 19ms/step - loss: 0.0889 - accuracy: 0.9702 - val_loss: 0.0648 - val_accuracy: 0.9812 - lr: 0.0010\n",
      "Epoch 27/100\n",
      "99/99 [==============================] - ETA: 0s - loss: 0.0857 - accuracy: 0.9702\n",
      "Epoch 27: val_accuracy did not improve from 0.98273\n",
      "99/99 [==============================] - 2s 19ms/step - loss: 0.0857 - accuracy: 0.9702 - val_loss: 0.0749 - val_accuracy: 0.9796 - lr: 0.0010\n",
      "Epoch 28/100\n",
      "97/99 [============================>.] - ETA: 0s - loss: 0.0837 - accuracy: 0.9748\n",
      "Epoch 28: val_accuracy did not improve from 0.98273\n",
      "99/99 [==============================] - 2s 18ms/step - loss: 0.0829 - accuracy: 0.9747 - val_loss: 0.0863 - val_accuracy: 0.9749 - lr: 0.0010\n",
      "Epoch 29/100\n",
      "99/99 [==============================] - ETA: 0s - loss: 0.0762 - accuracy: 0.9740\n",
      "Epoch 29: val_accuracy did not improve from 0.98273\n",
      "99/99 [==============================] - 2s 19ms/step - loss: 0.0762 - accuracy: 0.9740 - val_loss: 0.0697 - val_accuracy: 0.9780 - lr: 2.0000e-04\n",
      "Epoch 30/100\n",
      "97/99 [============================>.] - ETA: 0s - loss: 0.0657 - accuracy: 0.9793\n",
      "Epoch 30: val_accuracy did not improve from 0.98273\n",
      "99/99 [==============================] - 2s 19ms/step - loss: 0.0657 - accuracy: 0.9791 - val_loss: 0.0646 - val_accuracy: 0.9796 - lr: 2.0000e-04\n",
      "Epoch 31/100\n",
      "98/99 [============================>.] - ETA: 0s - loss: 0.0722 - accuracy: 0.9766\n",
      "Epoch 31: val_accuracy did not improve from 0.98273\n",
      "99/99 [==============================] - 2s 19ms/step - loss: 0.0717 - accuracy: 0.9769 - val_loss: 0.0651 - val_accuracy: 0.9812 - lr: 2.0000e-04\n",
      "Epoch 32/100\n",
      "98/99 [============================>.] - ETA: 0s - loss: 0.0758 - accuracy: 0.9773\n",
      "Epoch 32: val_accuracy did not improve from 0.98273\n",
      "99/99 [==============================] - 2s 19ms/step - loss: 0.0752 - accuracy: 0.9775 - val_loss: 0.0640 - val_accuracy: 0.9796 - lr: 2.0000e-04\n",
      "Epoch 33/100\n",
      "98/99 [============================>.] - ETA: 0s - loss: 0.0666 - accuracy: 0.9782\n",
      "Epoch 33: val_accuracy did not improve from 0.98273\n",
      "99/99 [==============================] - 2s 18ms/step - loss: 0.0674 - accuracy: 0.9778 - val_loss: 0.0654 - val_accuracy: 0.9796 - lr: 2.0000e-04\n",
      "Epoch 34/100\n",
      "97/99 [============================>.] - ETA: 0s - loss: 0.0698 - accuracy: 0.9770\n",
      "Epoch 34: val_accuracy did not improve from 0.98273\n",
      "99/99 [==============================] - 2s 19ms/step - loss: 0.0692 - accuracy: 0.9775 - val_loss: 0.0624 - val_accuracy: 0.9796 - lr: 2.0000e-04\n",
      "Epoch 35/100\n",
      "99/99 [==============================] - ETA: 0s - loss: 0.0641 - accuracy: 0.9778\n",
      "Epoch 35: val_accuracy did not improve from 0.98273\n",
      "99/99 [==============================] - 2s 19ms/step - loss: 0.0641 - accuracy: 0.9778 - val_loss: 0.0618 - val_accuracy: 0.9796 - lr: 2.0000e-04\n",
      "Epoch 36/100\n",
      "98/99 [============================>.] - ETA: 0s - loss: 0.0646 - accuracy: 0.9782\n",
      "Epoch 36: val_accuracy did not improve from 0.98273\n",
      "99/99 [==============================] - 2s 19ms/step - loss: 0.0643 - accuracy: 0.9781 - val_loss: 0.0639 - val_accuracy: 0.9780 - lr: 2.0000e-04\n",
      "Epoch 37/100\n",
      "99/99 [==============================] - ETA: 0s - loss: 0.0633 - accuracy: 0.9762\n",
      "Epoch 37: val_accuracy did not improve from 0.98273\n",
      "99/99 [==============================] - 2s 19ms/step - loss: 0.0633 - accuracy: 0.9762 - val_loss: 0.0638 - val_accuracy: 0.9796 - lr: 2.0000e-04\n",
      "Epoch 38/100\n",
      "97/99 [============================>.] - ETA: 0s - loss: 0.0648 - accuracy: 0.9790\n",
      "Epoch 38: val_accuracy did not improve from 0.98273\n",
      "99/99 [==============================] - 2s 19ms/step - loss: 0.0657 - accuracy: 0.9785 - val_loss: 0.0614 - val_accuracy: 0.9796 - lr: 2.0000e-04\n",
      "Epoch 39/100\n",
      "99/99 [==============================] - ETA: 0s - loss: 0.0650 - accuracy: 0.9772\n",
      "Epoch 39: val_accuracy did not improve from 0.98273\n",
      "99/99 [==============================] - 2s 19ms/step - loss: 0.0650 - accuracy: 0.9772 - val_loss: 0.0612 - val_accuracy: 0.9827 - lr: 4.0000e-05\n",
      "Epoch 40/100\n",
      "97/99 [============================>.] - ETA: 0s - loss: 0.0636 - accuracy: 0.9780\n",
      "Epoch 40: val_accuracy did not improve from 0.98273\n",
      "99/99 [==============================] - 2s 19ms/step - loss: 0.0651 - accuracy: 0.9775 - val_loss: 0.0611 - val_accuracy: 0.9827 - lr: 4.0000e-05\n",
      "Epoch 41/100\n",
      "97/99 [============================>.] - ETA: 0s - loss: 0.0590 - accuracy: 0.9780\n",
      "Epoch 41: val_accuracy did not improve from 0.98273\n",
      "99/99 [==============================] - 2s 19ms/step - loss: 0.0591 - accuracy: 0.9778 - val_loss: 0.0625 - val_accuracy: 0.9812 - lr: 4.0000e-05\n",
      "Epoch 42/100\n",
      "97/99 [============================>.] - ETA: 0s - loss: 0.0704 - accuracy: 0.9764\n",
      "Epoch 42: val_accuracy did not improve from 0.98273\n",
      "99/99 [==============================] - 2s 19ms/step - loss: 0.0699 - accuracy: 0.9766 - val_loss: 0.0610 - val_accuracy: 0.9827 - lr: 4.0000e-05\n",
      "Epoch 43/100\n",
      "97/99 [============================>.] - ETA: 0s - loss: 0.0594 - accuracy: 0.9822\n",
      "Epoch 43: val_accuracy did not improve from 0.98273\n",
      "99/99 [==============================] - 2s 19ms/step - loss: 0.0599 - accuracy: 0.9819 - val_loss: 0.0616 - val_accuracy: 0.9812 - lr: 4.0000e-05\n",
      "Epoch 44/100\n",
      "97/99 [============================>.] - ETA: 0s - loss: 0.0584 - accuracy: 0.9803\n",
      "Epoch 44: val_accuracy did not improve from 0.98273\n",
      "99/99 [==============================] - 2s 18ms/step - loss: 0.0587 - accuracy: 0.9804 - val_loss: 0.0619 - val_accuracy: 0.9796 - lr: 4.0000e-05\n",
      "Epoch 45/100\n",
      "97/99 [============================>.] - ETA: 0s - loss: 0.0591 - accuracy: 0.9799\n",
      "Epoch 45: val_accuracy did not improve from 0.98273\n",
      "99/99 [==============================] - 2s 19ms/step - loss: 0.0593 - accuracy: 0.9800 - val_loss: 0.0614 - val_accuracy: 0.9812 - lr: 4.0000e-05\n",
      "Epoch 46/100\n",
      "96/99 [============================>.] - ETA: 0s - loss: 0.0548 - accuracy: 0.9804\n",
      "Epoch 46: val_accuracy did not improve from 0.98273\n",
      "99/99 [==============================] - 2s 19ms/step - loss: 0.0551 - accuracy: 0.9804 - val_loss: 0.0615 - val_accuracy: 0.9796 - lr: 4.0000e-05\n",
      "Epoch 47/100\n",
      "97/99 [============================>.] - ETA: 0s - loss: 0.0582 - accuracy: 0.9832\n",
      "Epoch 47: val_accuracy did not improve from 0.98273\n",
      "99/99 [==============================] - 2s 19ms/step - loss: 0.0597 - accuracy: 0.9829 - val_loss: 0.0613 - val_accuracy: 0.9812 - lr: 4.0000e-05\n",
      "Epoch 48/100\n",
      "98/99 [============================>.] - ETA: 0s - loss: 0.0587 - accuracy: 0.9808\n",
      "Epoch 48: val_accuracy did not improve from 0.98273\n",
      "99/99 [==============================] - 2s 18ms/step - loss: 0.0588 - accuracy: 0.9807 - val_loss: 0.0614 - val_accuracy: 0.9812 - lr: 4.0000e-05\n",
      "Epoch 49/100\n",
      "98/99 [============================>.] - ETA: 0s - loss: 0.0585 - accuracy: 0.9811\n",
      "Epoch 49: val_accuracy did not improve from 0.98273\n",
      "99/99 [==============================] - 2s 19ms/step - loss: 0.0584 - accuracy: 0.9810 - val_loss: 0.0615 - val_accuracy: 0.9812 - lr: 8.0000e-06\n",
      "Epoch 50/100\n",
      "96/99 [============================>.] - ETA: 0s - loss: 0.0630 - accuracy: 0.9804\n",
      "Epoch 50: val_accuracy did not improve from 0.98273\n",
      "99/99 [==============================] - 2s 18ms/step - loss: 0.0635 - accuracy: 0.9804 - val_loss: 0.0615 - val_accuracy: 0.9812 - lr: 8.0000e-06\n",
      "Epoch 51/100\n",
      "96/99 [============================>.] - ETA: 0s - loss: 0.0602 - accuracy: 0.9794\n",
      "Epoch 51: val_accuracy did not improve from 0.98273\n",
      "99/99 [==============================] - 2s 18ms/step - loss: 0.0615 - accuracy: 0.9794 - val_loss: 0.0615 - val_accuracy: 0.9812 - lr: 8.0000e-06\n",
      "Epoch 52/100\n",
      "96/99 [============================>.] - ETA: 0s - loss: 0.0599 - accuracy: 0.9810\n",
      "Epoch 52: val_accuracy did not improve from 0.98273\n",
      "99/99 [==============================] - 2s 18ms/step - loss: 0.0602 - accuracy: 0.9807 - val_loss: 0.0615 - val_accuracy: 0.9812 - lr: 8.0000e-06\n",
      "Epoch 53/100\n",
      "99/99 [==============================] - ETA: 0s - loss: 0.0609 - accuracy: 0.9807\n",
      "Epoch 53: val_accuracy did not improve from 0.98273\n",
      "99/99 [==============================] - 2s 18ms/step - loss: 0.0609 - accuracy: 0.9807 - val_loss: 0.0614 - val_accuracy: 0.9812 - lr: 8.0000e-06\n",
      "Epoch 54/100\n",
      "97/99 [============================>.] - ETA: 0s - loss: 0.0580 - accuracy: 0.9793\n",
      "Epoch 54: val_accuracy did not improve from 0.98273\n",
      "99/99 [==============================] - 2s 18ms/step - loss: 0.0586 - accuracy: 0.9791 - val_loss: 0.0616 - val_accuracy: 0.9812 - lr: 8.0000e-06\n",
      "Epoch 55/100\n",
      "96/99 [============================>.] - ETA: 0s - loss: 0.0589 - accuracy: 0.9824\n",
      "Epoch 55: val_accuracy did not improve from 0.98273\n",
      "99/99 [==============================] - 2s 18ms/step - loss: 0.0603 - accuracy: 0.9816 - val_loss: 0.0616 - val_accuracy: 0.9812 - lr: 8.0000e-06\n",
      "Epoch 56/100\n",
      "97/99 [============================>.] - ETA: 0s - loss: 0.0582 - accuracy: 0.9819\n",
      "Epoch 56: val_accuracy did not improve from 0.98273\n",
      "99/99 [==============================] - 2s 18ms/step - loss: 0.0607 - accuracy: 0.9816 - val_loss: 0.0616 - val_accuracy: 0.9812 - lr: 8.0000e-06\n",
      "Epoch 57/100\n",
      "99/99 [==============================] - ETA: 0s - loss: 0.0612 - accuracy: 0.9772\n",
      "Epoch 57: val_accuracy did not improve from 0.98273\n",
      "99/99 [==============================] - 2s 18ms/step - loss: 0.0612 - accuracy: 0.9772 - val_loss: 0.0616 - val_accuracy: 0.9812 - lr: 8.0000e-06\n",
      "Epoch 58/100\n",
      "98/99 [============================>.] - ETA: 0s - loss: 0.0531 - accuracy: 0.9808\n",
      "Epoch 58: val_accuracy did not improve from 0.98273\n",
      "99/99 [==============================] - 2s 19ms/step - loss: 0.0540 - accuracy: 0.9807 - val_loss: 0.0613 - val_accuracy: 0.9812 - lr: 8.0000e-06\n",
      "Epoch 59/100\n",
      "98/99 [============================>.] - ETA: 0s - loss: 0.0614 - accuracy: 0.9792\n",
      "Epoch 59: val_accuracy did not improve from 0.98273\n",
      "99/99 [==============================] - 2s 19ms/step - loss: 0.0614 - accuracy: 0.9791 - val_loss: 0.0614 - val_accuracy: 0.9812 - lr: 1.6000e-06\n",
      "Epoch 60/100\n",
      "99/99 [==============================] - ETA: 0s - loss: 0.0619 - accuracy: 0.9797\n",
      "Epoch 60: val_accuracy did not improve from 0.98273\n",
      "99/99 [==============================] - 2s 19ms/step - loss: 0.0619 - accuracy: 0.9797 - val_loss: 0.0614 - val_accuracy: 0.9812 - lr: 1.6000e-06\n",
      "Epoch 61/100\n",
      "98/99 [============================>.] - ETA: 0s - loss: 0.0636 - accuracy: 0.9798\n",
      "Epoch 61: val_accuracy did not improve from 0.98273\n",
      "99/99 [==============================] - 2s 19ms/step - loss: 0.0634 - accuracy: 0.9797 - val_loss: 0.0613 - val_accuracy: 0.9812 - lr: 1.6000e-06\n",
      "Epoch 62/100\n",
      "98/99 [============================>.] - ETA: 0s - loss: 0.0597 - accuracy: 0.9802\n",
      "Epoch 62: val_accuracy did not improve from 0.98273\n",
      "99/99 [==============================] - 2s 19ms/step - loss: 0.0598 - accuracy: 0.9800 - val_loss: 0.0613 - val_accuracy: 0.9812 - lr: 1.6000e-06\n",
      "Epoch 63/100\n",
      "98/99 [============================>.] - ETA: 0s - loss: 0.0526 - accuracy: 0.9808\n",
      "Epoch 63: val_accuracy did not improve from 0.98273\n",
      "99/99 [==============================] - 2s 18ms/step - loss: 0.0530 - accuracy: 0.9804 - val_loss: 0.0613 - val_accuracy: 0.9812 - lr: 1.6000e-06\n",
      "Epoch 64/100\n",
      "97/99 [============================>.] - ETA: 0s - loss: 0.0594 - accuracy: 0.9803\n",
      "Epoch 64: val_accuracy did not improve from 0.98273\n",
      "99/99 [==============================] - 2s 18ms/step - loss: 0.0590 - accuracy: 0.9807 - val_loss: 0.0613 - val_accuracy: 0.9812 - lr: 1.6000e-06\n",
      "Epoch 65/100\n",
      "98/99 [============================>.] - ETA: 0s - loss: 0.0601 - accuracy: 0.9808\n",
      "Epoch 65: val_accuracy did not improve from 0.98273\n",
      "99/99 [==============================] - 2s 19ms/step - loss: 0.0606 - accuracy: 0.9804 - val_loss: 0.0613 - val_accuracy: 0.9812 - lr: 1.6000e-06\n",
      "Epoch 66/100\n",
      "98/99 [============================>.] - ETA: 0s - loss: 0.0567 - accuracy: 0.9814\n",
      "Epoch 66: val_accuracy did not improve from 0.98273\n",
      "99/99 [==============================] - 2s 18ms/step - loss: 0.0570 - accuracy: 0.9810 - val_loss: 0.0613 - val_accuracy: 0.9812 - lr: 1.6000e-06\n",
      "Epoch 67/100\n",
      "98/99 [============================>.] - ETA: 0s - loss: 0.0597 - accuracy: 0.9786\n",
      "Epoch 67: val_accuracy did not improve from 0.98273\n",
      "99/99 [==============================] - 2s 18ms/step - loss: 0.0593 - accuracy: 0.9788 - val_loss: 0.0612 - val_accuracy: 0.9812 - lr: 1.6000e-06\n",
      "Epoch 68/100\n",
      "97/99 [============================>.] - ETA: 0s - loss: 0.0558 - accuracy: 0.9809\n",
      "Epoch 68: val_accuracy did not improve from 0.98273\n",
      "99/99 [==============================] - 2s 18ms/step - loss: 0.0584 - accuracy: 0.9804 - val_loss: 0.0612 - val_accuracy: 0.9812 - lr: 1.6000e-06\n"
     ]
    }
   ],
   "source": [
    "train_model = TrainModel()\n",
    "best_hyperband_param, hyperband_results, best_hyperband_model = train_model.train_model()"
   ]
  },
  {
   "cell_type": "markdown",
   "metadata": {
    "id": "0i63wD2lA91r"
   },
   "source": [
    "# Model Evaluation"
   ]
  },
  {
   "cell_type": "markdown",
   "metadata": {
    "id": "BwABk0smJPZK"
   },
   "source": [
    "## Check model performance"
   ]
  },
  {
   "cell_type": "code",
   "execution_count": 29,
   "metadata": {
    "id": "mRsjXUetY952"
   },
   "outputs": [],
   "source": [
    "model = load_model('face_mask_detection_cnn_verihubs_test_AdityaLesmana-new.h5')"
   ]
  },
  {
   "cell_type": "code",
   "execution_count": 30,
   "metadata": {
    "colab": {
     "base_uri": "https://localhost:8080/"
    },
    "id": "vHqTMqP-aQDE",
    "outputId": "9c9e2084-6ba7-4648-a1b1-11750fe553c2"
   },
   "outputs": [
    {
     "name": "stdout",
     "output_type": "stream",
     "text": [
      "8/8 [==============================] - 2s 22ms/step - loss: 0.0661 - accuracy: 0.9831\n",
      "Face Mask Detection using CNN and Hyperband tuner has loss: 0.0660507008433342, accuracy: 0.9830508232116699\n"
     ]
    }
   ],
   "source": [
    "loss, accuracy = model.evaluate(test_generator)\n",
    "print(f'Face Mask Detection using CNN and Hyperband tuner has loss: {loss}, accuracy: {accuracy}')"
   ]
  },
  {
   "cell_type": "code",
   "execution_count": 31,
   "metadata": {
    "colab": {
     "base_uri": "https://localhost:8080/"
    },
    "id": "uSs7T32-bpLi",
    "outputId": "0ae4ca52-d6cd-4d13-a10f-8e6d35f0a818"
   },
   "outputs": [
    {
     "name": "stdout",
     "output_type": "stream",
     "text": [
      "8/8 [==============================] - 0s 12ms/step\n"
     ]
    },
    {
     "data": {
      "text/plain": [
       "array([0, 0, 0, 0, 0, 1, 0, 0, 0, 0, 0, 0, 0, 0, 1, 0, 0, 0, 0, 0, 1, 1,\n",
       "       0, 0, 0, 0, 0, 0, 0, 0, 0, 0, 0, 0, 1, 0, 1, 0, 0, 1, 0, 0, 0, 0,\n",
       "       0, 1, 0, 0, 0, 0, 0, 0, 1, 0, 0, 0, 0, 0, 0, 1, 0, 1, 1, 0, 0, 0,\n",
       "       0, 0, 1, 0, 0, 1, 0, 1, 0, 0, 0, 1, 0, 0, 1, 0, 0, 0, 0, 0, 1, 1,\n",
       "       1, 0, 0, 0, 0, 0, 1, 0, 0, 0, 0, 0, 0, 1, 0, 0, 0, 0, 0, 0, 0, 1,\n",
       "       0, 1, 0, 1, 1, 0, 1, 0, 0, 0, 1, 0, 0, 0, 0, 0, 0, 0, 0, 1, 0, 0,\n",
       "       0, 0, 0, 0, 0, 0, 0, 0, 0, 0, 0, 0, 0, 0, 0, 0, 0, 0, 0, 1, 0, 0,\n",
       "       0, 0, 0, 0, 0, 0, 0, 1, 0, 0, 0, 0, 0, 0, 0, 0, 1, 0, 0, 0, 0, 0,\n",
       "       1, 0, 0, 0, 1, 0, 0, 0, 0, 0, 0, 0, 0, 0, 0, 0, 0, 1, 0, 0, 1, 0,\n",
       "       0, 0, 0, 0, 0, 0, 0, 1, 0, 1, 0, 0, 0, 0, 0, 1, 0, 0, 0, 0, 0, 0,\n",
       "       1, 0, 0, 0, 0, 0, 1, 0, 0, 0, 1, 1, 1, 0, 0, 0])"
      ]
     },
     "execution_count": 31,
     "metadata": {},
     "output_type": "execute_result"
    }
   ],
   "source": [
    "predictions = model.predict(test_generator)\n",
    "y_pred = np.argmax(predictions, axis=1)\n",
    "\n",
    "y_pred"
   ]
  },
  {
   "cell_type": "markdown",
   "metadata": {
    "id": "68S6y_bLJUzD"
   },
   "source": [
    "## Plot Training model History"
   ]
  },
  {
   "cell_type": "code",
   "execution_count": null,
   "metadata": {
    "id": "zVNrAcm3b4Ai"
   },
   "outputs": [],
   "source": [
    "def plot_model(history):\n",
    "  history_df = pd.DataFrame(history)\n",
    "  fig, ax = plt.subplots(1, 2, figsize=(12, 6))\n",
    "\n",
    "  history_df.loc[0:, ['loss', 'val_loss']].plot(ax=ax[0])\n",
    "  ax[0].set(xlabel='epochs', ylabel='loss')\n",
    "\n",
    "  history_df.loc[0:, ['accuracy', 'val_accuracy']].plot(ax=ax[1])\n",
    "  ax[1].set(xlabel='epochs', ylabel='accuracy')"
   ]
  },
  {
   "cell_type": "code",
   "execution_count": null,
   "metadata": {
    "colab": {
     "base_uri": "https://localhost:8080/",
     "height": 542
    },
    "id": "A5R6PNiS7TlH",
    "outputId": "6860f2ac-a1f9-4a03-9a7d-ee40499dd6c9"
   },
   "outputs": [
    {
     "data": {
      "image/png": "[encoded data removed]",
      "text/plain": [
       "<Figure size 1200x600 with 2 Axes>"
      ]
     },
     "metadata": {},
     "output_type": "display_data"
    }
   ],
   "source": [
    "plot_model(best_hyperband_model.history)"
   ]
  },
  {
   "cell_type": "markdown",
   "metadata": {
    "id": "Gb4WieIMMB6m"
   },
   "source": [
    "# Testing Model"
   ]
  },
  {
   "cell_type": "markdown",
   "metadata": {
    "id": "mH-EjdkfJfly"
   },
   "source": [
    "## Test model using Test Generator"
   ]
  },
  {
   "cell_type": "code",
   "execution_count": 32,
   "metadata": {
    "colab": {
     "base_uri": "https://localhost:8080/",
     "height": 483
    },
    "id": "ofWjEbp9L-fQ",
    "outputId": "b55906ff-0aee-4f35-a026-c1e3bd6d4fd8"
   },
   "outputs": [
    {
     "name": "stdout",
     "output_type": "stream",
     "text": [
      "8/8 [==============================] - 0s 16ms/step\n",
      "True Label is with_mask and Predicting with_mask\n"
     ]
    },
    {
     "data": {
      "text/plain": [
       "<matplotlib.image.AxesImage at 0x782914447f70>"
      ]
     },
     "execution_count": 32,
     "metadata": {},
     "output_type": "execute_result"
    },
    {
     "data": {
      "image/png": "[encoded data removed]",
      "text/plain": [
       "<Figure size 640x480 with 1 Axes>"
      ]
     },
     "metadata": {},
     "output_type": "display_data"
    }
   ],
   "source": [
    "paths = test_generator.filenames\n",
    "y_pred = model.predict(test_generator).argmax(axis=1)\n",
    "classes = test_generator.class_indices\n",
    "\n",
    "rand_img = np.random.randint(0, len(paths))\n",
    "img = cv2.imread(os.path.join(output_data_path, 'test', paths[rand_img]))\n",
    "# Convert color to BGR if using notebook\n",
    "colored_img = cv2.cvtColor(img, cv2.COLOR_RGB2BGR)\n",
    "\n",
    "true_label = paths[rand_img].split('/')[0]\n",
    "pred_label = list(classes)[y_pred[rand_img]]\n",
    "\n",
    "print(f'True Label is {true_label} and Predicting {pred_label}')\n",
    "plt.imshow(colored_img)"
   ]
  },
  {
   "cell_type": "markdown",
   "metadata": {
    "id": "KxYUwUWkJoC4"
   },
   "source": [
    "## Plotting Confusion Matrix using Test Generator"
   ]
  },
  {
   "cell_type": "code",
   "execution_count": 33,
   "metadata": {
    "id": "kmcBWnue8-Ty"
   },
   "outputs": [],
   "source": [
    "def evaluation(y, y_hat, title='Confusion Matrix'):\n",
    "  cm = confusion_matrix(y, y_hat)\n",
    "\n",
    "  sns.heatmap(cm, cmap='PuBu', annot=True, fmt='g', annot_kws={'size': 20})\n",
    "\n",
    "  plt.xlabel('Predicted', fontsize=10)\n",
    "  plt.ylabel('Actual', fontsize=10)\n",
    "  plt.title(title, fontsize=10)\n",
    "\n",
    "  plt.show()"
   ]
  },
  {
   "cell_type": "code",
   "execution_count": 34,
   "metadata": {
    "colab": {
     "base_uri": "https://localhost:8080/",
     "height": 486
    },
    "id": "ZUrMHcGn_8xn",
    "outputId": "bedab1d3-8f43-4c70-8484-efb9ac119329"
   },
   "outputs": [
    {
     "name": "stdout",
     "output_type": "stream",
     "text": [
      "8/8 [==============================] - 0s 16ms/step\n"
     ]
    },
    {
     "data": {
      "image/png": "[encoded data removed]",
      "text/plain": [
       "<Figure size 640x480 with 2 Axes>"
      ]
     },
     "metadata": {},
     "output_type": "display_data"
    }
   ],
   "source": [
    "y_true = test_generator.labels\n",
    "y_pred = model.predict(test_generator).argmax(axis=1)\n",
    "\n",
    "evaluation(y_true, y_pred)"
   ]
  },
  {
   "cell_type": "markdown",
   "metadata": {
    "id": "4Eme49XA06gD"
   },
   "source": [
    "# Testing model to Image or Video outside datasets"
   ]
  },
  {
   "cell_type": "markdown",
   "metadata": {
    "id": "3RbW6glTJ6HQ"
   },
   "source": [
    "Create detector function"
   ]
  },
  {
   "cell_type": "code",
   "execution_count": 35,
   "metadata": {
    "id": "7XJf6i7r06gE"
   },
   "outputs": [],
   "source": [
    "def detector(frame, model, faces):\n",
    "    for (x, y, w, h) in faces:\n",
    "        face_image = frame[y:y + h, x:x + w]\n",
    "\n",
    "        pred_image = cv2.resize(face_image, (35, 35))\n",
    "        pred_image = cv2.cvtColor(pred_image, cv2.COLOR_BGR2RGB)\n",
    "        pred_image = img_to_array(pred_image) / 255.0\n",
    "        pred_image = np.expand_dims(pred_image, axis=0)\n",
    "\n",
    "        prediction = model.predict(pred_image).argmax(axis=1)\n",
    "        if np.round(prediction[0]) == 0:\n",
    "            prediction_label = 'Using Mask'\n",
    "            color = (0, 255, 0)\n",
    "        else:\n",
    "            prediction_label = 'Not Using Mask'\n",
    "            color = (0, 0, 255)\n",
    "\n",
    "        cv2.rectangle(frame, (x, y), ((x + w), (y + h)), color, 2)\n",
    "        cv2.putText(frame, f'{prediction_label}', (x, y - 20), cv2.FONT_HERSHEY_SIMPLEX, 1, color, 2)\n",
    "\n",
    "    return frame"
   ]
  },
  {
   "cell_type": "markdown",
   "metadata": {
    "id": "CksZQs6SJ9B2"
   },
   "source": [
    "Initiate Test data"
   ]
  },
  {
   "cell_type": "code",
   "execution_count": 36,
   "metadata": {
    "id": "XU2ldE2RVKoh"
   },
   "outputs": [],
   "source": [
    "no_mask_path = 'input/[TEST] Not Wearing Mask.jpg'\n",
    "use_mask_path = 'input/[TEST] Wearing Mask.jpg'\n",
    "input_vid = 'input/[TEST] Wearing Mask.mp4'\n",
    "output_vid = 'output/[RESULT] Wearing Mask.mp4'\n",
    "face_cascade = cv2.CascadeClassifier('input/haarcascade_frontalface_default.xml')"
   ]
  },
  {
   "cell_type": "markdown",
   "metadata": {
    "id": "QrZr3I2c06gF"
   },
   "source": [
    "## Test model to Image Data"
   ]
  },
  {
   "cell_type": "code",
   "execution_count": 37,
   "metadata": {
    "colab": {
     "base_uri": "https://localhost:8080/",
     "height": 487
    },
    "id": "kCWAUgZZ06gF",
    "outputId": "cba2160e-ceb6-4d70-8e8a-c78491ad771e"
   },
   "outputs": [
    {
     "name": "stdout",
     "output_type": "stream",
     "text": [
      "1/1 [==============================] - 0s 198ms/step\n",
      "1/1 [==============================] - 0s 20ms/step\n"
     ]
    },
    {
     "data": {
      "text/plain": [
       "<matplotlib.image.AxesImage at 0x78291423ce20>"
      ]
     },
     "execution_count": 37,
     "metadata": {},
     "output_type": "execute_result"
    },
    {
     "data": {
      "image/png": "[encoded data removed]",
      "text/plain": [
       "<Figure size 640x480 with 1 Axes>"
      ]
     },
     "metadata": {},
     "output_type": "display_data"
    }
   ],
   "source": [
    "no_mask_image = cv2.imread(no_mask_path)\n",
    "use_mask_image = cv2.imread(use_mask_path)\n",
    "stacked_image = cv2.vconcat([no_mask_image, use_mask_image])\n",
    "\n",
    "faces = face_cascade.detectMultiScale(stacked_image, 1.1, 10)\n",
    "frame = detector(stacked_image, model, faces)\n",
    "notebook_frame = cv2.cvtColor(frame, cv2.COLOR_RGB2BGR)\n",
    "\n",
    "plt.imshow(notebook_frame)"
   ]
  },
  {
   "cell_type": "markdown",
   "metadata": {
    "id": "u-8I11SS06gG"
   },
   "source": [
    "## Test model to Video Data"
   ]
  },
  {
   "cell_type": "markdown",
   "metadata": {
    "id": "YcajgW1uKPLp"
   },
   "source": [
    "This test will be write a new file with detection result because Jupyter Notebook or Google Colab can't show video in real time"
   ]
  },
  {
   "cell_type": "code",
   "execution_count": 38,
   "metadata": {
    "id": "cel7k_dR06gG"
   },
   "outputs": [],
   "source": [
    "cap = cv2.VideoCapture(input_vid)\n",
    "fps = int(cap.get(cv2.CAP_PROP_FPS))\n",
    "frame_size = (int(cap.get(cv2.CAP_PROP_FRAME_WIDTH)), int(cap.get(cv2.CAP_PROP_FRAME_HEIGHT)))\n",
    "\n",
    "fourcc = cv2.VideoWriter_fourcc(* 'mp4v')\n",
    "video_writter = cv2.VideoWriter(output_vid, fourcc, fps, frame_size)"
   ]
  },
  {
   "cell_type": "code",
   "execution_count": 39,
   "metadata": {
    "colab": {
     "base_uri": "https://localhost:8080/"
    },
    "id": "n0dWyZn706gH",
    "outputId": "bd199260-4499-4caf-f867-c89b6504d046"
   },
   "outputs": [
    {
     "name": "stdout",
     "output_type": "stream",
     "text": [
      "1/1 [==============================] - 0s 24ms/step\n",
      "1/1 [==============================] - 0s 20ms/step\n",
      "1/1 [==============================] - 0s 20ms/step\n",
      "1/1 [==============================] - 0s 20ms/step\n",
      "1/1 [==============================] - 0s 20ms/step\n",
      "1/1 [==============================] - 0s 20ms/step\n",
      "1/1 [==============================] - 0s 20ms/step\n",
      "1/1 [==============================] - 0s 20ms/step\n",
      "1/1 [==============================] - 0s 20ms/step\n",
      "1/1 [==============================] - 0s 20ms/step\n",
      "1/1 [==============================] - 0s 20ms/step\n",
      "1/1 [==============================] - 0s 21ms/step\n",
      "1/1 [==============================] - 0s 20ms/step\n",
      "1/1 [==============================] - 0s 20ms/step\n",
      "1/1 [==============================] - 0s 20ms/step\n",
      "1/1 [==============================] - 0s 19ms/step\n",
      "1/1 [==============================] - 0s 20ms/step\n",
      "1/1 [==============================] - 0s 22ms/step\n",
      "1/1 [==============================] - 0s 20ms/step\n",
      "1/1 [==============================] - 0s 20ms/step\n",
      "1/1 [==============================] - 0s 20ms/step\n",
      "1/1 [==============================] - 0s 21ms/step\n",
      "1/1 [==============================] - 0s 20ms/step\n",
      "1/1 [==============================] - 0s 20ms/step\n",
      "1/1 [==============================] - 0s 20ms/step\n",
      "1/1 [==============================] - 0s 20ms/step\n",
      "1/1 [==============================] - 0s 22ms/step\n",
      "1/1 [==============================] - 0s 21ms/step\n",
      "1/1 [==============================] - 0s 20ms/step\n",
      "1/1 [==============================] - 0s 20ms/step\n",
      "1/1 [==============================] - 0s 22ms/step\n",
      "1/1 [==============================] - 0s 20ms/step\n",
      "1/1 [==============================] - 0s 20ms/step\n",
      "1/1 [==============================] - 0s 21ms/step\n",
      "1/1 [==============================] - 0s 21ms/step\n",
      "1/1 [==============================] - 0s 21ms/step\n",
      "1/1 [==============================] - 0s 21ms/step\n",
      "1/1 [==============================] - 0s 21ms/step\n",
      "1/1 [==============================] - 0s 20ms/step\n",
      "1/1 [==============================] - 0s 20ms/step\n",
      "1/1 [==============================] - 0s 21ms/step\n",
      "1/1 [==============================] - 0s 20ms/step\n",
      "1/1 [==============================] - 0s 20ms/step\n",
      "1/1 [==============================] - 0s 20ms/step\n",
      "1/1 [==============================] - 0s 21ms/step\n",
      "1/1 [==============================] - 0s 20ms/step\n",
      "1/1 [==============================] - 0s 19ms/step\n",
      "1/1 [==============================] - 0s 22ms/step\n",
      "1/1 [==============================] - 0s 20ms/step\n",
      "1/1 [==============================] - 0s 21ms/step\n",
      "1/1 [==============================] - 0s 20ms/step\n",
      "1/1 [==============================] - 0s 20ms/step\n",
      "1/1 [==============================] - 0s 20ms/step\n",
      "1/1 [==============================] - 0s 20ms/step\n",
      "1/1 [==============================] - 0s 20ms/step\n",
      "1/1 [==============================] - 0s 20ms/step\n",
      "1/1 [==============================] - 0s 21ms/step\n",
      "1/1 [==============================] - 0s 20ms/step\n",
      "1/1 [==============================] - 0s 20ms/step\n",
      "1/1 [==============================] - 0s 20ms/step\n",
      "1/1 [==============================] - 0s 20ms/step\n",
      "1/1 [==============================] - 0s 20ms/step\n",
      "1/1 [==============================] - 0s 20ms/step\n",
      "1/1 [==============================] - 0s 20ms/step\n",
      "1/1 [==============================] - 0s 20ms/step\n",
      "1/1 [==============================] - 0s 20ms/step\n",
      "1/1 [==============================] - 0s 21ms/step\n",
      "1/1 [==============================] - 0s 20ms/step\n",
      "1/1 [==============================] - 0s 20ms/step\n",
      "1/1 [==============================] - 0s 20ms/step\n",
      "1/1 [==============================] - 0s 20ms/step\n",
      "1/1 [==============================] - 0s 21ms/step\n",
      "1/1 [==============================] - 0s 20ms/step\n",
      "1/1 [==============================] - 0s 20ms/step\n",
      "1/1 [==============================] - 0s 21ms/step\n",
      "1/1 [==============================] - 0s 20ms/step\n",
      "1/1 [==============================] - 0s 21ms/step\n",
      "1/1 [==============================] - 0s 20ms/step\n",
      "1/1 [==============================] - 0s 20ms/step\n",
      "1/1 [==============================] - 0s 20ms/step\n",
      "1/1 [==============================] - 0s 20ms/step\n",
      "1/1 [==============================] - 0s 20ms/step\n",
      "1/1 [==============================] - 0s 20ms/step\n",
      "1/1 [==============================] - 0s 20ms/step\n",
      "1/1 [==============================] - 0s 20ms/step\n",
      "1/1 [==============================] - 0s 21ms/step\n",
      "1/1 [==============================] - 0s 20ms/step\n",
      "1/1 [==============================] - 0s 20ms/step\n",
      "1/1 [==============================] - 0s 20ms/step\n",
      "1/1 [==============================] - 0s 21ms/step\n",
      "1/1 [==============================] - 0s 20ms/step\n",
      "1/1 [==============================] - 0s 19ms/step\n",
      "1/1 [==============================] - 0s 20ms/step\n",
      "1/1 [==============================] - 0s 21ms/step\n",
      "1/1 [==============================] - 0s 21ms/step\n",
      "1/1 [==============================] - 0s 20ms/step\n",
      "1/1 [==============================] - 0s 20ms/step\n",
      "1/1 [==============================] - 0s 20ms/step\n",
      "1/1 [==============================] - 0s 21ms/step\n",
      "1/1 [==============================] - 0s 20ms/step\n",
      "1/1 [==============================] - 0s 20ms/step\n",
      "1/1 [==============================] - 0s 20ms/step\n",
      "1/1 [==============================] - 0s 20ms/step\n",
      "1/1 [==============================] - 0s 21ms/step\n",
      "1/1 [==============================] - 0s 20ms/step\n",
      "1/1 [==============================] - 0s 20ms/step\n",
      "1/1 [==============================] - 0s 21ms/step\n",
      "1/1 [==============================] - 0s 20ms/step\n",
      "1/1 [==============================] - 0s 20ms/step\n",
      "1/1 [==============================] - 0s 19ms/step\n",
      "1/1 [==============================] - 0s 20ms/step\n",
      "1/1 [==============================] - 0s 20ms/step\n",
      "1/1 [==============================] - 0s 20ms/step\n",
      "1/1 [==============================] - 0s 20ms/step\n",
      "1/1 [==============================] - 0s 20ms/step\n",
      "1/1 [==============================] - 0s 20ms/step\n",
      "1/1 [==============================] - 0s 20ms/step\n",
      "1/1 [==============================] - 0s 20ms/step\n",
      "1/1 [==============================] - 0s 20ms/step\n",
      "1/1 [==============================] - 0s 21ms/step\n",
      "1/1 [==============================] - 0s 20ms/step\n",
      "1/1 [==============================] - 0s 21ms/step\n",
      "1/1 [==============================] - 0s 20ms/step\n",
      "1/1 [==============================] - 0s 20ms/step\n",
      "1/1 [==============================] - 0s 20ms/step\n",
      "1/1 [==============================] - 0s 20ms/step\n",
      "1/1 [==============================] - 0s 20ms/step\n",
      "1/1 [==============================] - 0s 20ms/step\n",
      "1/1 [==============================] - 0s 20ms/step\n",
      "Writing new file completed\n"
     ]
    }
   ],
   "source": [
    "while True:\n",
    "    ret, frame = cap.read()\n",
    "    if not ret:\n",
    "        break\n",
    "\n",
    "    faces = face_cascade.detectMultiScale(frame, 1.9, 5)\n",
    "    frame = detector(frame, model, faces)\n",
    "    video_writter.write(frame)\n",
    "\n",
    "print('Writing new file completed')\n",
    "cap.release()\n",
    "video_writter.release()"
   ]
  }
 ],
 "metadata": {
  "accelerator": "GPU",
  "colab": {
   "gpuType": "L4",
   "provenance": []
  },
  "kernelspec": {
   "display_name": "Python 3 (ipykernel)",
   "language": "python",
   "name": "python3"
  },
  "language_info": {
   "codemirror_mode": {
    "name": "ipython",
    "version": 3
   },
   "file_extension": ".py",
   "mimetype": "text/x-python",
   "name": "python",
   "nbconvert_exporter": "python",
   "pygments_lexer": "ipython3",
   "version": "3.8.19"
  }
 },
 "nbformat": 4,
 "nbformat_minor": 4
}
